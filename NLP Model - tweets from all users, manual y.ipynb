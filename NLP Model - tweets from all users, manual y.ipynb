{
 "cells": [
  {
   "cell_type": "markdown",
   "metadata": {},
   "source": [
    "### Importing Libraries"
   ]
  },
  {
   "cell_type": "code",
   "execution_count": 16,
   "metadata": {},
   "outputs": [],
   "source": [
    "#data stuff\n",
    "import pandas as pd\n",
    "\n",
    "#Modelling\n",
    "from sklearn.pipeline import Pipeline\n",
    "from sklearn.model_selection import train_test_split, GridSearchCV, cross_val_score\n",
    "from sklearn.linear_model import LogisticRegression\n",
    "from sklearn.neighbors import KNeighborsClassifier\n",
    "from sklearn.naive_bayes import MultinomialNB, GaussianNB\n",
    "from sklearn.feature_extraction import text\n",
    "from sklearn.ensemble import RandomForestClassifier, ExtraTreesClassifier\n",
    "from sklearn.svm import SVC\n",
    "from sklearn.metrics import roc_curve, auc\n",
    "\n",
    "#NLP\n",
    "import nltk\n",
    "from nltk.stem import WordNetLemmatizer\n",
    "from nltk.tokenize import RegexpTokenizer\n",
    "from nltk.corpus import stopwords\n",
    "from sklearn.feature_extraction import stop_words\n",
    "from sklearn.feature_extraction.text import CountVectorizer, TfidfVectorizer\n",
    "from nltk.tokenize import RegexpTokenizer\n",
    "import re\n",
    "import gensim\n",
    "\n",
    "#other\n",
    "from tqdm import tqdm_notebook\n",
    "from datetime import datetime, timedelta\n",
    "\n",
    "import matplotlib.pyplot as plt"
   ]
  },
  {
   "cell_type": "markdown",
   "metadata": {},
   "source": [
    "### Cleaning Data for Modeling\n",
    "- Specifying date range and road for model \n",
    "    - `start_day` and `end_day` and should be set here. \n",
    "- Formatting X to Input in Vectorizer\n",
    "    - model is built on one day of data \n",
    "    - data is broken down by hour\n",
    "    - all tweets from that hour are concatenated together\n",
    "    \n",
    "#### Data Dictionary\n",
    "|Feature|Type|Dataset|Description|\n",
    "|---|---|---|---|\n",
    "|time|Object (datetime)|data2|Time of tweet (EDT), formatted yyyy-mm-dd hh:00:00+00:00; covers time span of hh:00 to hh:59|\n",
    "|tweets|Object (string)|data2|Concatenated tweets pulled from traffic sites during that hour|  \n",
    "\n",
    "- Formatting Y to Train X data\n",
    "    - Y is built off of manually input values from reliable traffic twitter sites\n",
    "    - Data is entered by hour \n",
    "    - 6 Major roadways represented in both directions\n",
    "\n",
    "#### Data Dictionary\n",
    "|Feature|Type|Dataset|Description|\n",
    "|---|---|---|---|\n",
    "|date|Object (datetime)|closed|Time of tweet (EDT), formatted yyyy-mm-dd hh:00:00+00:00; covers time span of hh:00 to hh:59|\n",
    "|1-95 North|int|closed|Staus of major roadway in direction indicated (0 = no lane closures or incidents for duration of hour, 1 = any type of lane closure or incident during hour duration)|  \n",
    "|1-95 South|int|closed|Staus of major roadway in direction indicated (0 = no lane closures or incidents for duration of hour, 1 = any type of lane closure or incident during hour duration)|  \n",
    "|95 Express North|int|closed|Staus of major roadway in direction indicated (0 = no lane closures or incidents for duration of hour, 1 = any type of lane closure or incident during hour duration)|  \n",
    "|95 Express South|int|closed|Staus of major roadway in direction indicated (0 = no lane closures or incidents for duration of hour, 1 = any type of lane closure or incident during hour duration)| \n",
    "|I-195 East|int|closed|Staus of major roadway in direction indicated (0 = no lane closures or incidents for duration of hour, 1 = any type of lane closure or incident during hour duration)|  \n",
    "|I-195 West|int|closed|Staus of major roadway in direction indicated (0 = no lane closures or incidents for duration of hour, 1 = any type of lane closure or incident during hour duration)| \n",
    "|SR 826 North|int|closed|Staus of major roadway in direction indicated (0 = no lane closures or incidents for duration of hour, 1 = any type of lane closure or incident during hour duration)|  \n",
    "|SR 826 South|int|closed|Staus of major roadway in direction indicated (0 = no lane closures or incidents for duration of hour, 1 = any type of lane closure or incident during hour duration)| \n",
    "|US-1 North|int|closed|Staus of major roadway in direction indicated (0 = no lane closures or incidents for duration of hour, 1 = any type of lane closure or incident during hour duration)|  \n",
    "|US-1 South|int|closed|Staus of major roadway in direction indicated (0 = no lane closures or incidents for duration of hour, 1 = any type of lane closure or incident during hour duration)| \n",
    "\n",
    "- Merging data2 and closed2 such that only hours with data remain"
   ]
  },
  {
   "cell_type": "code",
   "execution_count": 17,
   "metadata": {},
   "outputs": [],
   "source": [
    "start_day = 23 #  Day refers to a day in July 2019\n",
    "end_day = 30 # Range is inclusive (end day is included in data)"
   ]
  },
  {
   "cell_type": "code",
   "execution_count": 18,
   "metadata": {
    "scrolled": true
   },
   "outputs": [],
   "source": [
    "def clean_X(day_read):\n",
    "    data = pd.read_csv('Datasets/timeloop_'+day_read+'.csv')\n",
    "    data.drop(columns=['User','User_ID','Geo'], inplace = True)\n",
    "    data['Date'] = pd.to_datetime(data['Date'])\n",
    "    data['Date'] = data.assign(Date=data['Date'].dt.round('H'))['Date']\n",
    "    times = []\n",
    "    times.append(data['Date'][0])\n",
    "\n",
    "    for i in tqdm_notebook(data.index):\n",
    "        time = data['Date'][i]\n",
    "        if time != times[len(times)-1]:\n",
    "            times.append(time)\n",
    "        \n",
    "    dic = {'time': [], 'tweets': []}\n",
    "\n",
    "    for hour in tqdm_notebook(times):\n",
    "        total = ''\n",
    "        tweets = list(data[data['Date'] == hour]['Tweet'])\n",
    "        for twit in tweets:\n",
    "            total += str(twit)\n",
    "        dic['time'].append(hour)\n",
    "        dic['tweets'].append(total)\n",
    "    data2 = pd.DataFrame.from_dict(dic)\n",
    "\n",
    "    data2.set_index('time', inplace=True)\n",
    "    data2.sort_index(inplace=True)\n",
    "    return data2"
   ]
  },
  {
   "cell_type": "code",
   "execution_count": 19,
   "metadata": {},
   "outputs": [
    {
     "data": {
      "application/vnd.jupyter.widget-view+json": {
       "model_id": "88d85e37373a45fa8777f5c3f2f3dedb",
       "version_major": 2,
       "version_minor": 0
      },
      "text/plain": [
       "HBox(children=(IntProgress(value=0, max=80000), HTML(value='')))"
      ]
     },
     "metadata": {},
     "output_type": "display_data"
    },
    {
     "name": "stdout",
     "output_type": "stream",
     "text": [
      "\n"
     ]
    },
    {
     "data": {
      "application/vnd.jupyter.widget-view+json": {
       "model_id": "aa2065ff7f3e4c17809ad6dac83e2697",
       "version_major": 2,
       "version_minor": 0
      },
      "text/plain": [
       "HBox(children=(IntProgress(value=0, max=14), HTML(value='')))"
      ]
     },
     "metadata": {},
     "output_type": "display_data"
    },
    {
     "name": "stdout",
     "output_type": "stream",
     "text": [
      "\n"
     ]
    },
    {
     "data": {
      "application/vnd.jupyter.widget-view+json": {
       "model_id": "c291ea66753f498384fbc183168217e7",
       "version_major": 2,
       "version_minor": 0
      },
      "text/plain": [
       "HBox(children=(IntProgress(value=0, max=80000), HTML(value='')))"
      ]
     },
     "metadata": {},
     "output_type": "display_data"
    },
    {
     "name": "stdout",
     "output_type": "stream",
     "text": [
      "\n"
     ]
    },
    {
     "data": {
      "application/vnd.jupyter.widget-view+json": {
       "model_id": "bbc52a024b5f437a98dcafabd9910330",
       "version_major": 2,
       "version_minor": 0
      },
      "text/plain": [
       "HBox(children=(IntProgress(value=0, max=13), HTML(value='')))"
      ]
     },
     "metadata": {},
     "output_type": "display_data"
    },
    {
     "name": "stdout",
     "output_type": "stream",
     "text": [
      "\n"
     ]
    },
    {
     "data": {
      "application/vnd.jupyter.widget-view+json": {
       "model_id": "2e16913f53874b198225a5d0935cbe4b",
       "version_major": 2,
       "version_minor": 0
      },
      "text/plain": [
       "HBox(children=(IntProgress(value=0, max=80000), HTML(value='')))"
      ]
     },
     "metadata": {},
     "output_type": "display_data"
    },
    {
     "name": "stdout",
     "output_type": "stream",
     "text": [
      "\n"
     ]
    },
    {
     "data": {
      "application/vnd.jupyter.widget-view+json": {
       "model_id": "9ac4aa6ff9c0433b90322e73a25f5c83",
       "version_major": 2,
       "version_minor": 0
      },
      "text/plain": [
       "HBox(children=(IntProgress(value=0, max=13), HTML(value='')))"
      ]
     },
     "metadata": {},
     "output_type": "display_data"
    },
    {
     "name": "stdout",
     "output_type": "stream",
     "text": [
      "\n"
     ]
    },
    {
     "data": {
      "application/vnd.jupyter.widget-view+json": {
       "model_id": "054bc416981a4604a8f3b80fb4c894cb",
       "version_major": 2,
       "version_minor": 0
      },
      "text/plain": [
       "HBox(children=(IntProgress(value=0, max=80000), HTML(value='')))"
      ]
     },
     "metadata": {},
     "output_type": "display_data"
    },
    {
     "name": "stdout",
     "output_type": "stream",
     "text": [
      "\n"
     ]
    },
    {
     "data": {
      "application/vnd.jupyter.widget-view+json": {
       "model_id": "ba4192b5ba0b4c39b4373a28715f3c3d",
       "version_major": 2,
       "version_minor": 0
      },
      "text/plain": [
       "HBox(children=(IntProgress(value=0, max=12), HTML(value='')))"
      ]
     },
     "metadata": {},
     "output_type": "display_data"
    },
    {
     "name": "stdout",
     "output_type": "stream",
     "text": [
      "\n"
     ]
    },
    {
     "data": {
      "application/vnd.jupyter.widget-view+json": {
       "model_id": "377c05a3a0ff47ff8f45fa223de709b4",
       "version_major": 2,
       "version_minor": 0
      },
      "text/plain": [
       "HBox(children=(IntProgress(value=0, max=80000), HTML(value='')))"
      ]
     },
     "metadata": {},
     "output_type": "display_data"
    },
    {
     "name": "stdout",
     "output_type": "stream",
     "text": [
      "\n"
     ]
    },
    {
     "data": {
      "application/vnd.jupyter.widget-view+json": {
       "model_id": "998d0aae921148029eda9124d94263c4",
       "version_major": 2,
       "version_minor": 0
      },
      "text/plain": [
       "HBox(children=(IntProgress(value=0, max=13), HTML(value='')))"
      ]
     },
     "metadata": {},
     "output_type": "display_data"
    },
    {
     "name": "stdout",
     "output_type": "stream",
     "text": [
      "\n"
     ]
    },
    {
     "data": {
      "application/vnd.jupyter.widget-view+json": {
       "model_id": "0b753c728c364526bd24be0c43e22d74",
       "version_major": 2,
       "version_minor": 0
      },
      "text/plain": [
       "HBox(children=(IntProgress(value=0, max=80000), HTML(value='')))"
      ]
     },
     "metadata": {},
     "output_type": "display_data"
    },
    {
     "name": "stdout",
     "output_type": "stream",
     "text": [
      "\n"
     ]
    },
    {
     "data": {
      "application/vnd.jupyter.widget-view+json": {
       "model_id": "d32fdc94902247c98ab72255c8996cc6",
       "version_major": 2,
       "version_minor": 0
      },
      "text/plain": [
       "HBox(children=(IntProgress(value=0, max=19), HTML(value='')))"
      ]
     },
     "metadata": {},
     "output_type": "display_data"
    },
    {
     "name": "stdout",
     "output_type": "stream",
     "text": [
      "\n"
     ]
    },
    {
     "data": {
      "application/vnd.jupyter.widget-view+json": {
       "model_id": "fbb2c77036a144d999d2aa6317c7d6b8",
       "version_major": 2,
       "version_minor": 0
      },
      "text/plain": [
       "HBox(children=(IntProgress(value=0, max=80000), HTML(value='')))"
      ]
     },
     "metadata": {},
     "output_type": "display_data"
    },
    {
     "name": "stdout",
     "output_type": "stream",
     "text": [
      "\n"
     ]
    },
    {
     "data": {
      "application/vnd.jupyter.widget-view+json": {
       "model_id": "f92adcedd8fe4509b787dff860533176",
       "version_major": 2,
       "version_minor": 0
      },
      "text/plain": [
       "HBox(children=(IntProgress(value=0, max=19), HTML(value='')))"
      ]
     },
     "metadata": {},
     "output_type": "display_data"
    },
    {
     "name": "stdout",
     "output_type": "stream",
     "text": [
      "\n"
     ]
    },
    {
     "data": {
      "application/vnd.jupyter.widget-view+json": {
       "model_id": "cf42c48a5ed44889a4dbef523ac0bb5d",
       "version_major": 2,
       "version_minor": 0
      },
      "text/plain": [
       "HBox(children=(IntProgress(value=0, max=80000), HTML(value='')))"
      ]
     },
     "metadata": {},
     "output_type": "display_data"
    },
    {
     "name": "stdout",
     "output_type": "stream",
     "text": [
      "\n"
     ]
    },
    {
     "data": {
      "application/vnd.jupyter.widget-view+json": {
       "model_id": "cc045ce2169440b4a900a4d65d992f8a",
       "version_major": 2,
       "version_minor": 0
      },
      "text/plain": [
       "HBox(children=(IntProgress(value=0, max=14), HTML(value='')))"
      ]
     },
     "metadata": {},
     "output_type": "display_data"
    },
    {
     "name": "stdout",
     "output_type": "stream",
     "text": [
      "\n"
     ]
    }
   ],
   "source": [
    "data_X = pd.DataFrame()\n",
    "\n",
    "for day in range(start_day, end_day+1):\n",
    "    cleaned_X = clean_X('2019-07-' + str(day))\n",
    "    data_X = pd.concat([cleaned_X, data_X])"
   ]
  },
  {
   "cell_type": "code",
   "execution_count": 20,
   "metadata": {},
   "outputs": [],
   "source": [
    "data_X.to_csv('./Datasets/data_X_all_tweets')"
   ]
  },
  {
   "cell_type": "code",
   "execution_count": 21,
   "metadata": {},
   "outputs": [],
   "source": [
    "closed = pd.read_csv('Datasets/manual_y - PDT.csv')\n",
    "closed.rename({'Unnamed: 0': 'Date'}, axis=1, inplace=True)\n",
    "closed['Date'] = pd.to_datetime(closed['Date'], utc=True) + timedelta(hours=7)\n",
    "# added UTC=True to make formatting match X table\n",
    "closed.set_index('Date', inplace=True)\n",
    "closed.sort_index(inplace=True)"
   ]
  },
  {
   "cell_type": "code",
   "execution_count": 22,
   "metadata": {},
   "outputs": [],
   "source": [
    "model_data = pd.concat([data_X, closed], axis=1, join='outer').dropna()"
   ]
  },
  {
   "cell_type": "markdown",
   "metadata": {},
   "source": [
    "### Creating Model\n",
    "- Train/Test Split (skipped for small initial dataset)\n",
    "- Create Pipeline\n",
    "- Gridsearch Parameters"
   ]
  },
  {
   "cell_type": "code",
   "execution_count": null,
   "metadata": {},
   "outputs": [],
   "source": [
    "model_data['95 Express North'].value_counts()"
   ]
  },
  {
   "cell_type": "code",
   "execution_count": null,
   "metadata": {},
   "outputs": [],
   "source": [
    "X = model_data['tweets']\n",
    "y = model_data['95 Express North']\n",
    "X_train, X_test, y_train, y_test = train_test_split(X, y, stratify=y, random_state=42)"
   ]
  },
  {
   "cell_type": "code",
   "execution_count": null,
   "metadata": {},
   "outputs": [],
   "source": [
    "model_data.columns"
   ]
  },
  {
   "cell_type": "markdown",
   "metadata": {},
   "source": [
    "#### Multinomial Naive Bayes\n",
    "\n",
    "Best Model Performance: \n",
    "- Train score = 0.87\n",
    "- Test score = 0.83"
   ]
  },
  {
   "cell_type": "code",
   "execution_count": null,
   "metadata": {},
   "outputs": [],
   "source": [
    "pipe = Pipeline([\n",
    "    ('vec', TfidfVectorizer(token_pattern='[a-zA-z]+ | [A-Za-z]+\\-*\\d+\\W(?:[sS]outh|[Nn]orth|East|West|[NSEW]{1,2}|[nswe]{1,2})*')),\n",
    "    ('nb', MultinomialNB())\n",
    "])\n",
    "pipe_params = {\n",
    "    'vec__stop_words': ['english'],\n",
    "    'vec__max_features': [2000],\n",
    "    'vec__min_df': [1],\n",
    "    'vec__max_df': [.6],\n",
    "    'vec__ngram_range': [(2,5)],\n",
    "    'nb__alpha': [.6]\n",
    "}\n",
    "\n",
    "gs = GridSearchCV(pipe, param_grid=pipe_params, cv=3)\n",
    "gs.fit(X_train, y_train)\n",
    "print('cvs:', gs.best_score_)\n",
    "print('train score:', gs.score(X_train, y_train))\n",
    "print('test score:', gs.score(X_test, y_test))\n",
    "gs.best_params_"
   ]
  },
  {
   "cell_type": "markdown",
   "metadata": {},
   "source": [
    "#### Random Forest\n",
    "\n",
    "Best Model Performance: \n",
    "- Train score = 0.93\n",
    "- Test score = 0.8"
   ]
  },
  {
   "cell_type": "code",
   "execution_count": null,
   "metadata": {},
   "outputs": [],
   "source": [
    "pipe = Pipeline([\n",
    "    ('vec', TfidfVectorizer(token_pattern='[a-zA-z]+ | [A-Za-z]+\\-*\\d+\\W(?:[sS]outh|[Nn]orth|East|West|[NSEW]{1,2}|[nswe]{1,2})*')),\n",
    "    ('rf', RandomForestClassifier())\n",
    "])\n",
    "\n",
    "pipe_params = {\n",
    "    'vec__stop_words': ['english'],\n",
    "    'vec__max_features': [800, 1000, 1200],\n",
    "    'vec__min_df': [2],\n",
    "    'vec__max_df': [.4, .5],\n",
    "    'vec__ngram_range': [(2,5)],\n",
    "    'rf__n_estimators': [3],\n",
    "    'rf__max_depth' : [6],\n",
    "    'rf__min_samples_split' : [.17],\n",
    "    'rf__criterion' : ['gini'],\n",
    "    'rf__min_samples_leaf' : [1],\n",
    "    'rf__max_features' : [.88]\n",
    "}\n",
    "\n",
    "gs = GridSearchCV(pipe, param_grid=pipe_params, cv=3, n_jobs=2, verbose=10)\n",
    "gs.fit(X_train, y_train)\n",
    "print('cvs:', gs.best_score_)\n",
    "print('train score:', gs.score(X_train, y_train))\n",
    "print('test score:', gs.score(X_test, y_test))\n",
    "gs.best_params_"
   ]
  },
  {
   "cell_type": "markdown",
   "metadata": {},
   "source": [
    "#### Breaking out TFIDF \n",
    "- Vectorizing tweets is time consuming\n",
    "- Tuning models to high performing TFIDF parameters first\n",
    "- Run pipe param with vectorizer after other model parameters are tuned"
   ]
  },
  {
   "cell_type": "code",
   "execution_count": null,
   "metadata": {},
   "outputs": [],
   "source": [
    "tfidf = TfidfVectorizer(\n",
    "    token_pattern='[a-zA-z]+ | [A-Za-z]+\\-*\\d+\\W(?:[sS]outh|[Nn]orth|East|West|[NSEW]{1,2}|[nswe]{1,2})*',\n",
    "    stop_words='english',\n",
    "    max_features=1000,\n",
    "    min_df=2,\n",
    "    max_df=.5,\n",
    "    ngram_range=(2,5)\n",
    ")\n",
    "X_train_vec = tfidf.fit_transform(X_train)\n",
    "X_test_vec = tfidf.transform(X_test)"
   ]
  },
  {
   "cell_type": "markdown",
   "metadata": {},
   "source": [
    "#### SVC\n",
    "\n",
    "Best Model Performance: \n",
    "- Train score = 1.0, .99\n",
    "- Test score = 0.9, .87"
   ]
  },
  {
   "cell_type": "code",
   "execution_count": null,
   "metadata": {},
   "outputs": [],
   "source": [
    "grid_params = {\n",
    "    'criterion': ['gini'],\n",
    "    'max_depth': [5, 6, 7],\n",
    "    'max_features': [.87, 0.88, 0.88],\n",
    "    'min_samples_leaf': [1],\n",
    "    'min_samples_split': [0.17, 0.18, 0.19],\n",
    "    'n_estimators': [3],\n",
    "}\n",
    "\n",
    "gs = GridSearchCV(RandomForestClassifier(), param_grid=grid_params, cv=3, n_jobs=2, verbose=10)\n",
    "gs.fit(X_train_vec, y_train)\n",
    "print('cvs:', gs.best_score_)\n",
    "print('train score:', gs.score(X_train_vec, y_train))\n",
    "print('test score:', gs.score(X_test_vec, y_test))\n",
    "gs.best_params_"
   ]
  },
  {
   "cell_type": "code",
   "execution_count": null,
   "metadata": {},
   "outputs": [],
   "source": [
    "pipe = Pipeline([\n",
    "    ('vec', TfidfVectorizer(token_pattern='[a-zA-z]+ | [A-Za-z]+\\-*\\d+\\W(?:[sS]outh|[Nn]orth|East|West|[NSEW]{1,2}|[nswe]{1,2})*')),\n",
    "    ('svc', SVC())\n",
    "])\n",
    "\n",
    "pipe_params = {\n",
    "    'vec__stop_words': ['english'],\n",
    "    'vec__max_features': [1000, 2000],\n",
    "    'vec__min_df': [1, 2],\n",
    "    'vec__max_df': [.5, .6],\n",
    "    'vec__ngram_range': [(2,5), (3,5)],\n",
    "    'svc__kernel' : ['poly'],\n",
    "    'svc__gamma' : [800],\n",
    "    'svc__C' : [0.009],\n",
    "    'svc__degree' : [1]\n",
    "}\n",
    "\n",
    "gs = GridSearchCV(pipe, param_grid=pipe_params, cv=3, n_jobs=2, verbose=10)\n",
    "gs.fit(X_train, y_train)\n",
    "print('cvs:', gs.best_score_)\n",
    "print('train score:', gs.score(X_train, y_train))\n",
    "print('test score:', gs.score(X_test, y_test))\n",
    "gs.best_params_"
   ]
  },
  {
   "cell_type": "markdown",
   "metadata": {},
   "source": [
    "### Running SVC on all major roads, both directions\n",
    "- Using parameters that performed best for I-95 North\n",
    "- `predictions_df` is a matrix which outputs the status of each road for hours that data exists\n",
    "- `performances_df` records the baseline accuracy and the train accuracy and the test accuracy"
   ]
  },
  {
   "cell_type": "code",
   "execution_count": null,
   "metadata": {},
   "outputs": [],
   "source": [
    "roads = ['I-95 North', 'I-95 South', '95 Express North',\n",
    "       '95 Express South', 'I-195 East', 'SR 826 North',\n",
    "       'SR 826 South', 'SR 836 East', 'SR 836 West', 'US-1 North',\n",
    "       'US-1 South']"
   ]
  },
  {
   "cell_type": "code",
   "execution_count": 28,
   "metadata": {},
   "outputs": [
    {
     "name": "stdout",
     "output_type": "stream",
     "text": [
      "I-95 North\n",
      "0.6923076923076923\n",
      "train score: 1.0\n",
      "test score: 0.9\n",
      "US-1 South\n",
      "0.7350427350427351\n",
      "train score: 0.9310344827586207\n",
      "test score: 0.7\n"
     ]
    }
   ],
   "source": [
    "X = model_data['tweets']\n",
    "# vectorizing \n",
    "tfidf = TfidfVectorizer(\n",
    "        token_pattern='[a-zA-z]+ | [A-Za-z]+\\-*\\d+\\W(?:[sS]outh|[Nn]orth|East|West|[NSEW]{1,2}|[nswe]{1,2})*',\n",
    "        stop_words='english',\n",
    "        max_features=2000,\n",
    "        min_df=1,\n",
    "        max_df=.6,\n",
    "        ngram_range=(2,5)\n",
    ")\n",
    "X_vec = tfidf.fit_transform(X)\n",
    "    \n",
    "    \n",
    "predictions_df = pd.DataFrame()\n",
    "performances_df = pd.DataFrame(\n",
    "    index=['baseline acc', 'train_acc', 'test_acc'])\n",
    "probs_df = pd.DataFrame()\n",
    "\n",
    "for road in roads: \n",
    "    print(road)\n",
    "    performance = []\n",
    "    \n",
    "    # adding baseline to performance\n",
    "    values = model_data[road].value_counts()\n",
    "    baseline = values[0]/values.sum()\n",
    "    if baseline<0.5:\n",
    "        baseline = values[1]/values.sum()\n",
    "    performance.append(baseline)\n",
    "    print(baseline) \n",
    "    \n",
    "    # train, test, split\n",
    "    y = model_data[road]\n",
    "    X_train, X_test, y_train, y_test = train_test_split(X_vec, y, \n",
    "                                                        stratify=y, \n",
    "                                                        random_state=42)\n",
    "    \n",
    "    # modeling\n",
    "    svc = SVC(kernel='poly', gamma=550, C=0.004, degree=1, probability=True)\n",
    "    svc.fit(X_train, y_train)\n",
    "    \n",
    "    train = svc.score(X_train, y_train)\n",
    "    performance.append(train)\n",
    "    test = svc.score(X_test, y_test)\n",
    "    performance.append(test)\n",
    "    print('train score:', train)\n",
    "    print('test score:', test)\n",
    "    \n",
    "    performances_df[road] = performance\n",
    "    \n",
    "    preds = svc.predict(X_vec)\n",
    "    preds_df = pd.DataFrame(preds, index=X.index)\n",
    "    predictions_df = pd.concat([predictions_df,preds_df], axis=1)\n",
    "    \n",
    "    y_probs = svc.predict_proba(X_vec)\n",
    "    y_preds = y_probs[:,1]\n",
    "    y_preds = pd.DataFrame(y_preds, index=X.index)\n",
    "    probs_df = pd.concat([probs_df,y_preds], axis=1)"
   ]
  },
  {
   "cell_type": "code",
   "execution_count": null,
   "metadata": {},
   "outputs": [],
   "source": [
    "predictions_df.columns = ['I-95 North', 'I-95 South', '95 Express North',\n",
    "       '95 Express South', 'I-195 East', 'SR 826 North',\n",
    "       'SR 826 South', 'SR 836 East', 'SR 836 West', 'US-1 North',\n",
    "       'US-1 South']\n",
    "probs_df.columns = ['I-95 North', 'I-95 South', '95 Express North',\n",
    "       '95 Express South', 'I-195 East', 'SR 826 North',\n",
    "       'SR 826 South', 'SR 836 East', 'SR 836 West', 'US-1 North',\n",
    "       'US-1 South']"
   ]
  },
  {
   "cell_type": "code",
   "execution_count": null,
   "metadata": {},
   "outputs": [],
   "source": [
    "performances_df.to_csv('./Datasets/performance_svc.csv')\n",
    "predictions_df.to_csv('./Datasets/predictions_svc.csv')"
   ]
  },
  {
   "cell_type": "code",
   "execution_count": 30,
   "metadata": {},
   "outputs": [],
   "source": [
    "# News tweets - best and worst improvement over baseline\n",
    "\n",
    "y_true_95N = model_data['I-95 North']\n",
    "y_preds_95N = probs_df['I-95 North']\n",
    "\n",
    "fpr_95N, tpr_95N, threshold = roc_curve(y_true_95N, y_preds_95N)\n",
    "\n",
    "roc_auc_95N = auc(fpr_95N, tpr_95N)\n",
    "\n",
    "y_true_1S = model_data['US-1 South']\n",
    "y_preds_1S = probs_df['US-1 South']\n",
    "\n",
    "fpr_1S, tpr_1S, threshold = roc_curve(y_true_1S, y_preds_1S)\n",
    "\n",
    "roc_auc_1S = auc(fpr_1S, tpr_1S)"
   ]
  },
  {
   "cell_type": "code",
   "execution_count": 229,
   "metadata": {},
   "outputs": [
    {
     "data": {
      "image/png": "[encoded data removed]",
      "text/plain": [
       "<Figure size 864x864 with 1 Axes>"
      ]
     },
     "metadata": {
      "needs_background": "light"
     },
     "output_type": "display_data"
    }
   ],
   "source": [
    "plt.figure(figsize=(12,12), edgecolor='#BDFFFF')\n",
    "plt.title('Receiver Operating Characteristic - All Tweets', fontsize=30)\n",
    "plt.plot(fpr_95N, tpr_95N, '#A601A3', label = 'All Tweets - I-95 North AUC = %0.2f' % roc_auc_95N)\n",
    "plt.plot(1-fpr_1S, 1-tpr_1S, '#0652C3', label = 'All Tweets - US-1 South AUC = %0.2f' % (1-roc_auc_1S))\n",
    "plt.legend(loc = 'lower right', fontsize='xx-large')\n",
    "plt.legend(loc = 'lower right', fontsize='xx-large')\n",
    "plt.plot([0, 1], [0, 1],'k--')\n",
    "plt.xlim([0, 1])\n",
    "plt.xticks(fontsize=20)\n",
    "plt.yticks(fontsize=20)\n",
    "plt.ylim([0, 1.005])\n",
    "plt.ylabel('True Positive Rate', fontsize=24)\n",
    "plt.xlabel('False Positive Rate', fontsize=24)\n",
    "plt.show()"
   ]
  },
  {
   "cell_type": "markdown",
   "metadata": {},
   "source": [
    "### Importing Tweets from traffic sources only"
   ]
  },
  {
   "cell_type": "code",
   "execution_count": 38,
   "metadata": {},
   "outputs": [],
   "source": [
    "files = ['@TotalTrafficMIA',\n",
    "         '@TrafficAlertSFL', '@nbc6', '@CBSMiami', '@wsvn', '@MiamiHerald', '@SunSentinel', '@miaminewsnow',\n",
    "         '@BeachNewsAlerts', '@WPLGLocal10', \n",
    "       '@MiamiBeachPD', '@miamibeachnews', '@FLTurnpikeSFL']"
   ]
  },
  {
   "cell_type": "code",
   "execution_count": 39,
   "metadata": {},
   "outputs": [
    {
     "data": {
      "application/vnd.jupyter.widget-view+json": {
       "model_id": "8db96af8c40f4303bc15f7f5de98607a",
       "version_major": 2,
       "version_minor": 0
      },
      "text/plain": [
       "HBox(children=(IntProgress(value=0, max=13), HTML(value='')))"
      ]
     },
     "metadata": {},
     "output_type": "display_data"
    },
    {
     "name": "stdout",
     "output_type": "stream",
     "text": [
      "\n"
     ]
    }
   ],
   "source": [
    "datum = []\n",
    "\n",
    "for filename in tqdm_notebook(files):\n",
    "    data = pd.read_csv(f'Datasets/siteloop_{filename}.csv')\n",
    "    data.drop(columns=['User','User_ID','Geo'], inplace = True)\n",
    "    data['Date'] = pd.to_datetime(data['Date'])\n",
    "    data['Date'] = data.assign(Date=data['Date'].dt.floor('H'))['Date']\n",
    "    times = []\n",
    "    times.append(data['Date'][0])\n",
    "\n",
    "    for i in data.index:\n",
    "        time = data['Date'][i]\n",
    "        if time != times[len(times)-1]:\n",
    "            times.append(time)\n",
    "\n",
    "    dic = {'time': [], f'{filename}': []}\n",
    "\n",
    "    for hour in times:\n",
    "        total = ''\n",
    "        tweets = list(data[data['Date'] == hour]['Tweet'])\n",
    "        for twit in tweets:\n",
    "            total += str(twit)\n",
    "        dic['time'].append(hour)\n",
    "        dic[f'{filename}'].append(total)\n",
    "    exec(f'data_{filename[1:]} = pd.DataFrame.from_dict(dic)')\n",
    "    \n",
    "    exec(f'data_{filename[1:]}.set_index(\"time\", inplace=True)')\n",
    "    exec(f'data_{filename[1:]}.sort_index(inplace=True)')\n",
    "    \n",
    "    exec(f'datum.append(data_{filename[1:]})')\n",
    "df = pd.concat(datum, axis=1)\n",
    "df.fillna('', inplace=True)"
   ]
  },
  {
   "cell_type": "code",
   "execution_count": null,
   "metadata": {},
   "outputs": [],
   "source": [
    "df.columns"
   ]
  },
  {
   "cell_type": "code",
   "execution_count": 40,
   "metadata": {},
   "outputs": [],
   "source": [
    "df['tweets'] = df['@TotalTrafficMIA'] + df['@TrafficAlertSFL'] + df['@nbc6'] + \\\n",
    "df['@CBSMiami'] + df['@wsvn'] + df['@MiamiHerald'] + df['@SunSentinel'] + \\\n",
    "df['@miaminewsnow'] + df['@BeachNewsAlerts'] + df['@WPLGLocal10'] + df['@MiamiBeachPD'] + \\\n",
    "df['@miamibeachnews'] + df['@FLTurnpikeSFL']"
   ]
  },
  {
   "cell_type": "code",
   "execution_count": 41,
   "metadata": {},
   "outputs": [],
   "source": [
    "model_data_news = pd.concat([df['tweets'], closed], axis=1, join='outer').dropna()"
   ]
  },
  {
   "cell_type": "code",
   "execution_count": 64,
   "metadata": {},
   "outputs": [],
   "source": [
    "X = model_data_news['tweets']\n",
    "y = model_data_news['I-95 North']\n",
    "X_train, X_test, y_train, y_test = train_test_split(X, y, stratify=y, random_state=42)"
   ]
  },
  {
   "cell_type": "code",
   "execution_count": 65,
   "metadata": {},
   "outputs": [],
   "source": [
    "tfidf = TfidfVectorizer(\n",
    "    token_pattern='[a-zA-z]+ | [A-Za-z]+\\-*\\d+\\W(?:[sS]outh|[Nn]orth|East|West|[NSEW]{1,2}|[nswe]{1,2})*',\n",
    "    stop_words='english',\n",
    "    max_features=1000,\n",
    "    min_df=1,\n",
    "    max_df=.6,\n",
    "    ngram_range=(2,5)\n",
    ")\n",
    "X_train_vec = tfidf.fit_transform(X_train)\n",
    "X_test_vec = tfidf.transform(X_test)"
   ]
  },
  {
   "cell_type": "code",
   "execution_count": 66,
   "metadata": {},
   "outputs": [
    {
     "name": "stdout",
     "output_type": "stream",
     "text": [
      "Fitting 3 folds for each of 324 candidates, totalling 972 fits\n"
     ]
    },
    {
     "name": "stderr",
     "output_type": "stream",
     "text": [
      "[Parallel(n_jobs=2)]: Using backend LokyBackend with 2 concurrent workers.\n",
      "[Parallel(n_jobs=2)]: Done   1 tasks      | elapsed:    2.9s\n",
      "[Parallel(n_jobs=2)]: Done   4 tasks      | elapsed:    2.9s\n",
      "[Parallel(n_jobs=2)]: Done   9 tasks      | elapsed:    3.0s\n",
      "[Parallel(n_jobs=2)]: Done  14 tasks      | elapsed:    3.0s\n",
      "[Parallel(n_jobs=2)]: Batch computation too fast (0.1791s.) Setting batch_size=2.\n",
      "[Parallel(n_jobs=2)]: Done  22 tasks      | elapsed:    3.1s\n",
      "[Parallel(n_jobs=2)]: Batch computation too fast (0.0384s.) Setting batch_size=20.\n",
      "[Parallel(n_jobs=2)]: Done 108 tasks      | elapsed:    3.6s\n",
      "[Parallel(n_jobs=2)]: Done 288 tasks      | elapsed:    5.2s\n",
      "[Parallel(n_jobs=2)]: Done 468 tasks      | elapsed:    6.3s\n",
      "[Parallel(n_jobs=2)]: Done 688 tasks      | elapsed:    7.8s\n",
      "[Parallel(n_jobs=2)]: Done 908 tasks      | elapsed:    9.1s\n"
     ]
    },
    {
     "name": "stdout",
     "output_type": "stream",
     "text": [
      "cvs: 0.6771300448430493\n",
      "train score: 0.8251121076233184\n",
      "test score: 0.56\n"
     ]
    },
    {
     "name": "stderr",
     "output_type": "stream",
     "text": [
      "[Parallel(n_jobs=2)]: Done 972 out of 972 | elapsed:    9.5s finished\n",
      "/Users/mags/anaconda3/lib/python3.7/site-packages/sklearn/model_selection/_search.py:841: DeprecationWarning: The default of the `iid` parameter will change from True to False in version 0.22 and will be removed in 0.24. This will change numeric results when test-set sizes are unequal.\n",
      "  DeprecationWarning)\n"
     ]
    },
    {
     "data": {
      "text/plain": [
       "{'criterion': 'gini',\n",
       " 'max_depth': 4,\n",
       " 'max_features': 0.32,\n",
       " 'min_samples_leaf': 4,\n",
       " 'min_samples_split': 0.2,\n",
       " 'n_estimators': 7}"
      ]
     },
     "execution_count": 66,
     "metadata": {},
     "output_type": "execute_result"
    }
   ],
   "source": [
    "grid_params = {\n",
    "    'criterion': ['gini'],\n",
    "    'max_depth': [3, 4, 5],\n",
    "    'max_features': [.3, .31, .32],\n",
    "    'min_samples_leaf': [2, 3, 4],\n",
    "    'min_samples_split': [.18, .19, .2],\n",
    "    'n_estimators': [4, 5, 6, 7],\n",
    "}\n",
    "\n",
    "gs = GridSearchCV(RandomForestClassifier(), param_grid=grid_params, cv=3, n_jobs=2, verbose=10)\n",
    "gs.fit(X_train_vec, y_train)\n",
    "print('cvs:', gs.best_score_)\n",
    "print('train score:', gs.score(X_train_vec, y_train))\n",
    "print('test score:', gs.score(X_test_vec, y_test))\n",
    "gs.best_params_"
   ]
  },
  {
   "cell_type": "code",
   "execution_count": null,
   "metadata": {},
   "outputs": [],
   "source": [
    "y.value_counts()[0]/y.value_counts().sum()"
   ]
  },
  {
   "cell_type": "code",
   "execution_count": 78,
   "metadata": {
    "scrolled": true
   },
   "outputs": [],
   "source": [
    "pipe = Pipeline([\n",
    "    ('vec', TfidfVectorizer(token_pattern='[a-zA-z]+ | [A-Za-z]+\\-*\\d+\\W(?:[sS]outh|[Nn]orth|East|West|[NSEW]{1,2}|[nswe]{1,2})*')),\n",
    "    ('rf', RandomForestClassifier())\n",
    "])\n",
    "\n",
    "pipe_params = {\n",
    "    'vec__stop_words': ['english'],\n",
    "    'vec__max_features': [500, 1000, 2000],\n",
    "    'vec__min_df': [1, 2],\n",
    "    'vec__max_df': [.5, .8],\n",
    "    'vec__ngram_range': [(2,5), (3,5), (4,5), (3,6)],\n",
    "    'rf__criterion' : ['gini'],\n",
    "    'rf__max_depth' : [2, 3, 4],\n",
    "    'rf__max_features' : [0.3, 0.6, 0.9],\n",
    "    'rf__min_samples_leaf' : [1, 2],\n",
    "    'rf__min_samples_split': [0.2, 0.4, 0.6],\n",
    "    'rf__n_estimators': [3, 5, 7]\n",
    "}\n",
    "\n",
    "gs = GridSearchCV(pipe, param_grid=pipe_params, cv=3, n_jobs=2, verbose=10)\n",
    "gs.fit(X_train, y_train)\n",
    "print('cvs:', gs.best_score_)\n",
    "print('train score:', gs.score(X_train, y_train))\n",
    "print('test score:', gs.score(X_test, y_test))\n",
    "gs.best_params_"
   ]
  },
  {
   "cell_type": "code",
   "execution_count": 79,
   "metadata": {},
   "outputs": [
    {
     "name": "stdout",
     "output_type": "stream",
     "text": [
      "Fitting 3 folds for each of 432 candidates, totalling 1296 fits\n"
     ]
    },
    {
     "name": "stderr",
     "output_type": "stream",
     "text": [
      "[Parallel(n_jobs=2)]: Using backend LokyBackend with 2 concurrent workers.\n",
      "[Parallel(n_jobs=2)]: Done   1 tasks      | elapsed:    0.5s\n",
      "[Parallel(n_jobs=2)]: Done   4 tasks      | elapsed:    1.2s\n",
      "[Parallel(n_jobs=2)]: Done   9 tasks      | elapsed:    2.9s\n",
      "[Parallel(n_jobs=2)]: Done  14 tasks      | elapsed:    4.8s\n",
      "[Parallel(n_jobs=2)]: Done  21 tasks      | elapsed:    7.7s\n",
      "[Parallel(n_jobs=2)]: Done  28 tasks      | elapsed:   12.1s\n",
      "[Parallel(n_jobs=2)]: Done  37 tasks      | elapsed:   16.0s\n",
      "[Parallel(n_jobs=2)]: Done  46 tasks      | elapsed:   19.4s\n",
      "[Parallel(n_jobs=2)]: Done  57 tasks      | elapsed:   23.5s\n",
      "[Parallel(n_jobs=2)]: Done  68 tasks      | elapsed:   27.8s\n",
      "[Parallel(n_jobs=2)]: Done  81 tasks      | elapsed:   31.5s\n",
      "[Parallel(n_jobs=2)]: Done  94 tasks      | elapsed:   35.9s\n",
      "[Parallel(n_jobs=2)]: Done 109 tasks      | elapsed:   40.8s\n",
      "[Parallel(n_jobs=2)]: Done 124 tasks      | elapsed:   46.4s\n",
      "[Parallel(n_jobs=2)]: Done 141 tasks      | elapsed:   52.6s\n",
      "[Parallel(n_jobs=2)]: Done 158 tasks      | elapsed:   59.0s\n",
      "[Parallel(n_jobs=2)]: Done 177 tasks      | elapsed:  1.1min\n",
      "[Parallel(n_jobs=2)]: Done 196 tasks      | elapsed:  1.2min\n",
      "[Parallel(n_jobs=2)]: Done 217 tasks      | elapsed:  1.3min\n",
      "[Parallel(n_jobs=2)]: Done 238 tasks      | elapsed:  1.5min\n",
      "[Parallel(n_jobs=2)]: Done 261 tasks      | elapsed:  1.6min\n",
      "[Parallel(n_jobs=2)]: Done 284 tasks      | elapsed:  1.7min\n",
      "[Parallel(n_jobs=2)]: Done 309 tasks      | elapsed:  1.9min\n",
      "[Parallel(n_jobs=2)]: Done 334 tasks      | elapsed:  2.1min\n",
      "[Parallel(n_jobs=2)]: Done 361 tasks      | elapsed:  2.2min\n",
      "[Parallel(n_jobs=2)]: Done 388 tasks      | elapsed:  2.4min\n",
      "[Parallel(n_jobs=2)]: Done 417 tasks      | elapsed:  2.6min\n",
      "[Parallel(n_jobs=2)]: Done 446 tasks      | elapsed:  2.9min\n",
      "[Parallel(n_jobs=2)]: Done 477 tasks      | elapsed:  3.2min\n",
      "[Parallel(n_jobs=2)]: Done 508 tasks      | elapsed:  3.6min\n",
      "[Parallel(n_jobs=2)]: Done 541 tasks      | elapsed:  3.9min\n",
      "[Parallel(n_jobs=2)]: Done 574 tasks      | elapsed:  4.2min\n",
      "[Parallel(n_jobs=2)]: Done 609 tasks      | elapsed:  4.5min\n",
      "[Parallel(n_jobs=2)]: Done 644 tasks      | elapsed:  4.7min\n",
      "[Parallel(n_jobs=2)]: Done 681 tasks      | elapsed:  4.9min\n",
      "[Parallel(n_jobs=2)]: Done 718 tasks      | elapsed:  5.2min\n",
      "[Parallel(n_jobs=2)]: Done 757 tasks      | elapsed:  5.4min\n",
      "[Parallel(n_jobs=2)]: Done 796 tasks      | elapsed:  5.6min\n",
      "[Parallel(n_jobs=2)]: Done 837 tasks      | elapsed:  5.9min\n",
      "[Parallel(n_jobs=2)]: Done 878 tasks      | elapsed:  6.2min\n",
      "[Parallel(n_jobs=2)]: Done 921 tasks      | elapsed:  6.4min\n",
      "[Parallel(n_jobs=2)]: Done 964 tasks      | elapsed:  6.7min\n",
      "[Parallel(n_jobs=2)]: Done 1009 tasks      | elapsed:  7.0min\n",
      "[Parallel(n_jobs=2)]: Done 1054 tasks      | elapsed:  7.3min\n",
      "[Parallel(n_jobs=2)]: Done 1101 tasks      | elapsed:  7.6min\n",
      "[Parallel(n_jobs=2)]: Done 1148 tasks      | elapsed:  7.9min\n",
      "[Parallel(n_jobs=2)]: Done 1197 tasks      | elapsed:  8.2min\n",
      "[Parallel(n_jobs=2)]: Done 1246 tasks      | elapsed:  8.4min\n",
      "[Parallel(n_jobs=2)]: Done 1296 out of 1296 | elapsed:  8.7min finished\n",
      "/Users/mags/anaconda3/lib/python3.7/site-packages/sklearn/model_selection/_search.py:841: DeprecationWarning: The default of the `iid` parameter will change from True to False in version 0.22 and will be removed in 0.24. This will change numeric results when test-set sizes are unequal.\n",
      "  DeprecationWarning)\n"
     ]
    },
    {
     "name": "stdout",
     "output_type": "stream",
     "text": [
      "cvs: 0.6681614349775785\n",
      "train score: 0.7130044843049327\n",
      "test score: 0.68\n"
     ]
    },
    {
     "data": {
      "text/plain": [
       "{'rf__criterion': 'gini',\n",
       " 'rf__max_depth': 3,\n",
       " 'rf__max_features': 0.4,\n",
       " 'rf__min_samples_leaf': 1,\n",
       " 'rf__min_samples_split': 0.5,\n",
       " 'rf__n_estimators': 3,\n",
       " 'vec__max_df': 0.4,\n",
       " 'vec__max_features': 500,\n",
       " 'vec__min_df': 2,\n",
       " 'vec__ngram_range': (3, 6),\n",
       " 'vec__stop_words': 'english'}"
      ]
     },
     "execution_count": 79,
     "metadata": {},
     "output_type": "execute_result"
    }
   ],
   "source": [
    "pipe = Pipeline([\n",
    "    ('vec', CountVectorizer(token_pattern='[a-zA-z]+ | [A-Za-z]+\\-*\\d+\\W(?:[sS]outh|[Nn]orth|East|West|[NSEW]{1,2}|[nswe]{1,2})*')),\n",
    "    ('rf', RandomForestClassifier())\n",
    "])\n",
    "\n",
    "pipe_params = {\n",
    "    'vec__stop_words': ['english'],\n",
    "    'vec__max_features': [400, 500, 600],\n",
    "    'vec__min_df': [1, 2],\n",
    "    'vec__max_df': [.4, .5, .6],\n",
    "    'vec__ngram_range': [(3,5), (3,6)],\n",
    "    'rf__criterion' : ['gini'],\n",
    "    'rf__max_depth' : [3, 4],\n",
    "    'rf__max_features' : [.2, 0.4, .6],\n",
    "    'rf__min_samples_leaf' : [1],\n",
    "    'rf__min_samples_split': [0.5],\n",
    "    'rf__n_estimators': [2, 3]\n",
    "}\n",
    "\n",
    "gs = GridSearchCV(pipe, param_grid=pipe_params, cv=3, n_jobs=2, verbose=10)\n",
    "gs.fit(X_train, y_train)\n",
    "print('cvs:', gs.best_score_)\n",
    "print('train score:', gs.score(X_train, y_train))\n",
    "print('test score:', gs.score(X_test, y_test))\n",
    "gs.best_params_"
   ]
  },
  {
   "cell_type": "code",
   "execution_count": 85,
   "metadata": {},
   "outputs": [
    {
     "name": "stdout",
     "output_type": "stream",
     "text": [
      "cvs: 0.6457399103139013\n",
      "train score: 0.726457399103139\n",
      "test score: 0.64\n"
     ]
    },
    {
     "data": {
      "text/plain": [
       "{'nb__alpha': 0.55,\n",
       " 'vec__max_df': 0.18,\n",
       " 'vec__max_features': 500,\n",
       " 'vec__min_df': 3,\n",
       " 'vec__ngram_range': (5, 7),\n",
       " 'vec__stop_words': 'english'}"
      ]
     },
     "execution_count": 85,
     "metadata": {},
     "output_type": "execute_result"
    }
   ],
   "source": [
    "pipe = Pipeline([\n",
    "    ('vec', CountVectorizer(token_pattern='[a-zA-z]+ | [A-Za-z]+\\-*\\d+\\W(?:[sS]outh|[Nn]orth|East|West|[NSEW]{1,2}|[nswe]{1,2})*')),\n",
    "    ('nb', MultinomialNB())\n",
    "])\n",
    "pipe_params = {\n",
    "    'vec__stop_words': ['english'],\n",
    "    'vec__max_features': [500],\n",
    "    'vec__min_df': [3],\n",
    "    'vec__max_df': [.18],\n",
    "    'vec__ngram_range': [(5, 7)],\n",
    "    'nb__alpha': [.5, .55]\n",
    "}\n",
    "\n",
    "gs = GridSearchCV(pipe, param_grid=pipe_params, cv=3)\n",
    "gs.fit(X_train, y_train)\n",
    "print('cvs:', gs.best_score_)\n",
    "print('train score:', gs.score(X_train, y_train))\n",
    "print('test score:', gs.score(X_test, y_test))\n",
    "gs.best_params_"
   ]
  },
  {
   "cell_type": "code",
   "execution_count": 212,
   "metadata": {},
   "outputs": [
    {
     "data": {
      "text/plain": [
       "0.0    0.865772\n",
       "1.0    0.134228\n",
       "Name: US-1 North, dtype: float64"
      ]
     },
     "execution_count": 212,
     "metadata": {},
     "output_type": "execute_result"
    }
   ],
   "source": [
    "y.value_counts(normalize=True)"
   ]
  },
  {
   "cell_type": "code",
   "execution_count": 210,
   "metadata": {},
   "outputs": [],
   "source": [
    "X = model_data_news['tweets']\n",
    "y = model_data_news['US-1 North']\n",
    "X_train, X_test, y_train, y_test = train_test_split(X, y, stratify=y, random_state=42)"
   ]
  },
  {
   "cell_type": "code",
   "execution_count": 213,
   "metadata": {},
   "outputs": [
    {
     "name": "stdout",
     "output_type": "stream",
     "text": [
      "Fitting 3 folds for each of 144 candidates, totalling 432 fits\n"
     ]
    },
    {
     "name": "stderr",
     "output_type": "stream",
     "text": [
      "[Parallel(n_jobs=3)]: Using backend LokyBackend with 3 concurrent workers.\n",
      "[Parallel(n_jobs=3)]: Done   2 tasks      | elapsed:    1.0s\n",
      "[Parallel(n_jobs=3)]: Done   7 tasks      | elapsed:    3.1s\n",
      "[Parallel(n_jobs=3)]: Done  12 tasks      | elapsed:    4.1s\n",
      "[Parallel(n_jobs=3)]: Done  19 tasks      | elapsed:    6.7s\n",
      "[Parallel(n_jobs=3)]: Done  26 tasks      | elapsed:    8.4s\n",
      "[Parallel(n_jobs=3)]: Done  35 tasks      | elapsed:   11.1s\n",
      "[Parallel(n_jobs=3)]: Done  44 tasks      | elapsed:   13.7s\n",
      "[Parallel(n_jobs=3)]: Done  55 tasks      | elapsed:   17.1s\n",
      "[Parallel(n_jobs=3)]: Done  66 tasks      | elapsed:   19.8s\n",
      "[Parallel(n_jobs=3)]: Done  79 tasks      | elapsed:   24.1s\n",
      "[Parallel(n_jobs=3)]: Done  92 tasks      | elapsed:   27.7s\n",
      "[Parallel(n_jobs=3)]: Done 107 tasks      | elapsed:   32.2s\n",
      "[Parallel(n_jobs=3)]: Done 122 tasks      | elapsed:   36.7s\n",
      "[Parallel(n_jobs=3)]: Done 139 tasks      | elapsed:   42.0s\n",
      "[Parallel(n_jobs=3)]: Done 156 tasks      | elapsed:   46.7s\n",
      "[Parallel(n_jobs=3)]: Done 175 tasks      | elapsed:   54.1s\n",
      "[Parallel(n_jobs=3)]: Done 194 tasks      | elapsed:   59.9s\n",
      "[Parallel(n_jobs=3)]: Done 215 tasks      | elapsed:  1.1min\n",
      "[Parallel(n_jobs=3)]: Done 236 tasks      | elapsed:  1.2min\n",
      "[Parallel(n_jobs=3)]: Done 259 tasks      | elapsed:  1.3min\n",
      "[Parallel(n_jobs=3)]: Done 282 tasks      | elapsed:  1.5min\n",
      "[Parallel(n_jobs=3)]: Done 307 tasks      | elapsed:  1.6min\n",
      "[Parallel(n_jobs=3)]: Done 332 tasks      | elapsed:  1.7min\n",
      "[Parallel(n_jobs=3)]: Done 359 tasks      | elapsed:  1.9min\n",
      "[Parallel(n_jobs=3)]: Done 386 tasks      | elapsed:  2.0min\n",
      "[Parallel(n_jobs=3)]: Done 415 tasks      | elapsed:  2.2min\n",
      "[Parallel(n_jobs=3)]: Done 432 out of 432 | elapsed:  2.3min finished\n"
     ]
    },
    {
     "name": "stdout",
     "output_type": "stream",
     "text": [
      "cvs: 0.8654708520179372\n",
      "train score: 0.8654708520179372\n",
      "test score: 0.8666666666666667\n"
     ]
    },
    {
     "data": {
      "text/plain": [
       "{'svc__C': 0.0001,\n",
       " 'svc__degree': 0,\n",
       " 'svc__gamma': 0,\n",
       " 'svc__kernel': 'poly',\n",
       " 'vec__max_df': 0.2,\n",
       " 'vec__max_features': 1500,\n",
       " 'vec__min_df': 1,\n",
       " 'vec__ngram_range': (4, 7),\n",
       " 'vec__stop_words': 'english'}"
      ]
     },
     "execution_count": 213,
     "metadata": {},
     "output_type": "execute_result"
    }
   ],
   "source": [
    "pipe = Pipeline([\n",
    "    ('vec', CountVectorizer(token_pattern='[a-zA-z]+ | [A-Za-z]+\\-*\\d+\\W(?:[sS]outh|[Nn]orth|East|West|[NSEW]{1,2}|[nswe]{1,2})*')),\n",
    "    ('svc', SVC())\n",
    "])\n",
    "\n",
    "pipe_params = {\n",
    "    'vec__stop_words': ['english'],\n",
    "    'vec__max_features': [1500, 1600, 1700],\n",
    "    'vec__min_df': [1, 2],\n",
    "    'vec__max_df': [.2, .25],\n",
    "    'vec__ngram_range': [(4,7)],\n",
    "    'svc__kernel' : ['poly'],\n",
    "    'svc__gamma' : [0, 1, 2],\n",
    "    'svc__C' : [.0001, .001],\n",
    "    'svc__degree' : [0, 1]\n",
    "}\n",
    "\n",
    "gs = GridSearchCV(pipe, param_grid=pipe_params, cv=3, n_jobs=3, verbose=10)\n",
    "gs.fit(X_train, y_train)\n",
    "print('cvs:', gs.best_score_)\n",
    "print('train score:', gs.score(X_train, y_train))\n",
    "print('test score:', gs.score(X_test, y_test))\n",
    "gs.best_params_"
   ]
  },
  {
   "cell_type": "markdown",
   "metadata": {},
   "source": [
    "### Running Random Forest Classifier on all major roads, both directions\n",
    "- Using parameters that performed best for I-95 North\n",
    "- `predictions_df` is a matrix which outputs the status of each road for hours that data exists\n",
    "- `performances_df` records the baseline accuracy and the train accuracy and the test accuracy"
   ]
  },
  {
   "cell_type": "code",
   "execution_count": 93,
   "metadata": {},
   "outputs": [],
   "source": [
    "roads = ['I-95 North', 'I-95 South', '95 Express North',\n",
    "       '95 Express South', 'I-195 East', 'SR 826 North',\n",
    "       'SR 826 South', 'SR 836 East', 'SR 836 West', 'US-1 North',\n",
    "       'US-1 South']"
   ]
  },
  {
   "cell_type": "code",
   "execution_count": 219,
   "metadata": {},
   "outputs": [
    {
     "name": "stdout",
     "output_type": "stream",
     "text": [
      "I-95 North\n",
      "0.5234899328859061\n",
      "train score: 0.5246636771300448\n",
      "test score: 0.52\n",
      "I-95 South\n",
      "0.6140939597315436\n",
      "train score: 0.6143497757847534\n",
      "test score: 0.6133333333333333\n",
      "95 Express North\n",
      "0.5738255033557047\n",
      "train score: 0.5739910313901345\n",
      "test score: 0.5733333333333334\n",
      "95 Express South\n",
      "0.8154362416107382\n",
      "train score: 0.8161434977578476\n",
      "test score: 0.8133333333333334\n",
      "I-195 East\n",
      "0.7986577181208053\n",
      "train score: 0.7982062780269058\n",
      "test score: 0.8\n",
      "SR 826 North\n",
      "0.7785234899328859\n",
      "train score: 0.7802690582959642\n",
      "test score: 0.7733333333333333\n",
      "SR 826 South\n",
      "0.7953020134228188\n",
      "train score: 0.7937219730941704\n",
      "test score: 0.8\n",
      "SR 836 East\n",
      "0.7181208053691275\n",
      "train score: 0.7174887892376681\n",
      "test score: 0.72\n",
      "SR 836 West\n",
      "0.7248322147651006\n",
      "train score: 0.726457399103139\n",
      "test score: 0.72\n",
      "US-1 North\n",
      "0.8657718120805369\n",
      "train score: 0.8654708520179372\n",
      "test score: 0.8666666666666667\n",
      "US-1 South\n",
      "0.7986577181208053\n",
      "train score: 0.7982062780269058\n",
      "test score: 0.8\n"
     ]
    }
   ],
   "source": [
    "X = model_data_news['tweets']\n",
    "# vectorizing \n",
    "cvec = CountVectorizer(\n",
    "        token_pattern='[a-zA-z]+ | [A-Za-z]+\\-*\\d+\\W(?:[sS]outh|[Nn]orth|East|West|[NSEW]{1,2}|[nswe]{1,2})*',\n",
    "        stop_words='english',\n",
    "        max_features=1700,\n",
    "        min_df=1,\n",
    "        max_df=.3,\n",
    "        ngram_range=(4, 8)\n",
    ")\n",
    "X_vec = cvec.fit_transform(X)\n",
    "\n",
    "predictions_df = pd.DataFrame()\n",
    "performances_df = pd.DataFrame(\n",
    "    index=['baseline acc', 'train_acc', 'test_acc'])\n",
    "probs_df = pd.DataFrame()\n",
    "\n",
    "for road in roads: \n",
    "    print(road)\n",
    "    performance = []\n",
    "    \n",
    "    # adding baseline to performance\n",
    "    values = model_data_news[road].value_counts()\n",
    "    baseline = values[0]/values.sum()\n",
    "    if baseline<0.5:\n",
    "        baseline = values[1]/values.sum()\n",
    "    performance.append(baseline)\n",
    "    print(baseline)\n",
    "    \n",
    "    # train, test, split\n",
    "    y = model_data_news[road]\n",
    "    X_train, X_test, y_train, y_test = train_test_split(X_vec, y, \n",
    "                                                        stratify=y, \n",
    "                                                        random_state=42)\n",
    "    \n",
    "    # modeling\n",
    "    svc = SVC(kernel='poly', gamma=10, C=.001, degree=0, probability=True)\n",
    "    svc.fit(X_train, y_train)\n",
    "    \n",
    "    train = svc.score(X_train, y_train)\n",
    "    performance.append(train)\n",
    "    test = svc.score(X_test, y_test)\n",
    "    performance.append(test)\n",
    "    print('train score:', train)\n",
    "    print('test score:', test)\n",
    "    \n",
    "    performances_df[road] = performance\n",
    "    \n",
    "    preds = svc.predict(X_vec)\n",
    "    preds_df = pd.DataFrame(preds, index=X.index)\n",
    "    predictions_df = pd.concat([predictions_df,preds_df], axis=1)\n",
    "    \n",
    "    y_probs = svc.predict_proba(X_vec)\n",
    "    y_preds = y_probs[:,1]\n",
    "    y_preds = pd.DataFrame(y_preds, index=X.index)\n",
    "    probs_df = pd.concat([probs_df,y_preds], axis=1)"
   ]
  },
  {
   "cell_type": "code",
   "execution_count": 184,
   "metadata": {},
   "outputs": [],
   "source": [
    "predictions_df.columns = ['I-95 North', 'I-95 South', '95 Express North',\n",
    "       '95 Express South', 'I-195 East', 'SR 826 North',\n",
    "       'SR 826 South', 'SR 836 East', 'SR 836 West', 'US-1 North',\n",
    "       'US-1 South']\n",
    "probs_df.columns = ['I-95 North', 'I-95 South', '95 Express North',\n",
    "       '95 Express South', 'I-195 East', 'SR 826 North',\n",
    "       'SR 826 South', 'SR 836 East', 'SR 836 West', 'US-1 North',\n",
    "       'US-1 South']"
   ]
  },
  {
   "cell_type": "code",
   "execution_count": 61,
   "metadata": {},
   "outputs": [],
   "source": [
    "performances_df.to_csv('./Datasets/performance_rf.csv')\n",
    "predictions_df.to_csv('./Datasets/predictions_rf.csv')"
   ]
  },
  {
   "cell_type": "code",
   "execution_count": 221,
   "metadata": {},
   "outputs": [
    {
     "data": {
      "text/plain": [
       "0.727882855399634"
      ]
     },
     "execution_count": 221,
     "metadata": {},
     "output_type": "execute_result"
    }
   ],
   "source": [
    "performances_df.T['baseline acc'].mean()"
   ]
  },
  {
   "cell_type": "code",
   "execution_count": 222,
   "metadata": {},
   "outputs": [
    {
     "data": {
      "text/plain": [
       "0.7280880554423156"
      ]
     },
     "execution_count": 222,
     "metadata": {},
     "output_type": "execute_result"
    }
   ],
   "source": [
    "performances_df.T['train_acc'].mean()"
   ]
  },
  {
   "cell_type": "code",
   "execution_count": 220,
   "metadata": {},
   "outputs": [
    {
     "data": {
      "text/plain": [
       "0.7272727272727272"
      ]
     },
     "execution_count": 220,
     "metadata": {},
     "output_type": "execute_result"
    }
   ],
   "source": [
    "performances_df.T['test_acc'].mean()\n",
    "# change n-gram from (2,5) to (4,7)\n",
    "# .64 -> 0.72"
   ]
  },
  {
   "cell_type": "code",
   "execution_count": 185,
   "metadata": {},
   "outputs": [],
   "source": [
    "# News tweets - best and worst improvement over baseline\n",
    "\n",
    "y_true_95E = model_data_news['I-95 North']\n",
    "y_preds_95E = probs_df['I-95 North']\n",
    "\n",
    "fpr_95E, tpr_95E, threshold = roc_curve(y_true_95E, y_preds_95E)\n",
    "\n",
    "roc_auc_95E = auc(fpr_95E, tpr_95E)\n",
    "\n",
    "y_true_836 = model_data_news['SR 836 East']\n",
    "y_preds_836 = probs_df['SR 836 East']\n",
    "\n",
    "fpr_836, tpr_836, threshold = roc_curve(y_true_836, y_preds_836)\n",
    "\n",
    "roc_auc_836 = auc(fpr_836, tpr_836)"
   ]
  },
  {
   "cell_type": "code",
   "execution_count": 228,
   "metadata": {},
   "outputs": [
    {
     "data": {
      "image/png": "[encoded data removed]",
      "text/plain": [
       "<Figure size 864x864 with 1 Axes>"
      ]
     },
     "metadata": {
      "needs_background": "light"
     },
     "output_type": "display_data"
    }
   ],
   "source": [
    "plt.figure(figsize=(12,12), edgecolor='#BDFFFF')\n",
    "plt.title('Receiver Operating Characteristic - News Tweets', fontsize=30)\n",
    "plt.plot(fpr_95E, tpr_95E, '#A601A3', label = 'News Tweets - I-95 North AUC = %0.2f' % roc_auc_95E)\n",
    "plt.plot(fpr_836, tpr_836, '#0652C3', label = 'News Tweets - SR 836 East AUC = %0.2f' % roc_auc_836)\n",
    "plt.legend(loc = 'lower right', fontsize='xx-large')\n",
    "plt.legend(loc = 'lower right', fontsize='xx-large')\n",
    "plt.plot([0, 1], [0, 1],'k--')\n",
    "plt.xlim([0, 1])\n",
    "plt.xticks(fontsize=20)\n",
    "plt.yticks(fontsize=20)\n",
    "plt.ylim([0, 1.005])\n",
    "plt.ylabel('True Positive Rate', fontsize=24)\n",
    "plt.xlabel('False Positive Rate', fontsize=24)\n",
    "plt.show()"
   ]
  },
  {
   "cell_type": "code",
   "execution_count": 189,
   "metadata": {},
   "outputs": [
    {
     "ename": "ValueError",
     "evalue": "Shape of passed values is (298, 1), indices imply (1800, 1)",
     "output_type": "error",
     "traceback": [
      "\u001b[0;31m---------------------------------------------------------------------------\u001b[0m",
      "\u001b[0;31mValueError\u001b[0m                                Traceback (most recent call last)",
      "\u001b[0;32m~/anaconda3/lib/python3.7/site-packages/pandas/core/internals/managers.py\u001b[0m in \u001b[0;36mcreate_block_manager_from_blocks\u001b[0;34m(blocks, axes)\u001b[0m\n\u001b[1;32m   1652\u001b[0m \u001b[0;34m\u001b[0m\u001b[0m\n\u001b[0;32m-> 1653\u001b[0;31m         \u001b[0mmgr\u001b[0m \u001b[0;34m=\u001b[0m \u001b[0mBlockManager\u001b[0m\u001b[0;34m(\u001b[0m\u001b[0mblocks\u001b[0m\u001b[0;34m,\u001b[0m \u001b[0maxes\u001b[0m\u001b[0;34m)\u001b[0m\u001b[0;34m\u001b[0m\u001b[0;34m\u001b[0m\u001b[0m\n\u001b[0m\u001b[1;32m   1654\u001b[0m         \u001b[0mmgr\u001b[0m\u001b[0;34m.\u001b[0m\u001b[0m_consolidate_inplace\u001b[0m\u001b[0;34m(\u001b[0m\u001b[0;34m)\u001b[0m\u001b[0;34m\u001b[0m\u001b[0;34m\u001b[0m\u001b[0m\n",
      "\u001b[0;32m~/anaconda3/lib/python3.7/site-packages/pandas/core/internals/managers.py\u001b[0m in \u001b[0;36m__init__\u001b[0;34m(self, blocks, axes, do_integrity_check)\u001b[0m\n\u001b[1;32m    113\u001b[0m         \u001b[0;32mif\u001b[0m \u001b[0mdo_integrity_check\u001b[0m\u001b[0;34m:\u001b[0m\u001b[0;34m\u001b[0m\u001b[0;34m\u001b[0m\u001b[0m\n\u001b[0;32m--> 114\u001b[0;31m             \u001b[0mself\u001b[0m\u001b[0;34m.\u001b[0m\u001b[0m_verify_integrity\u001b[0m\u001b[0;34m(\u001b[0m\u001b[0;34m)\u001b[0m\u001b[0;34m\u001b[0m\u001b[0;34m\u001b[0m\u001b[0m\n\u001b[0m\u001b[1;32m    115\u001b[0m \u001b[0;34m\u001b[0m\u001b[0m\n",
      "\u001b[0;32m~/anaconda3/lib/python3.7/site-packages/pandas/core/internals/managers.py\u001b[0m in \u001b[0;36m_verify_integrity\u001b[0;34m(self)\u001b[0m\n\u001b[1;32m    310\u001b[0m             \u001b[0;32mif\u001b[0m \u001b[0mblock\u001b[0m\u001b[0;34m.\u001b[0m\u001b[0m_verify_integrity\u001b[0m \u001b[0;32mand\u001b[0m \u001b[0mblock\u001b[0m\u001b[0;34m.\u001b[0m\u001b[0mshape\u001b[0m\u001b[0;34m[\u001b[0m\u001b[0;36m1\u001b[0m\u001b[0;34m:\u001b[0m\u001b[0;34m]\u001b[0m \u001b[0;34m!=\u001b[0m \u001b[0mmgr_shape\u001b[0m\u001b[0;34m[\u001b[0m\u001b[0;36m1\u001b[0m\u001b[0;34m:\u001b[0m\u001b[0;34m]\u001b[0m\u001b[0;34m:\u001b[0m\u001b[0;34m\u001b[0m\u001b[0;34m\u001b[0m\u001b[0m\n\u001b[0;32m--> 311\u001b[0;31m                 \u001b[0mconstruction_error\u001b[0m\u001b[0;34m(\u001b[0m\u001b[0mtot_items\u001b[0m\u001b[0;34m,\u001b[0m \u001b[0mblock\u001b[0m\u001b[0;34m.\u001b[0m\u001b[0mshape\u001b[0m\u001b[0;34m[\u001b[0m\u001b[0;36m1\u001b[0m\u001b[0;34m:\u001b[0m\u001b[0;34m]\u001b[0m\u001b[0;34m,\u001b[0m \u001b[0mself\u001b[0m\u001b[0;34m.\u001b[0m\u001b[0maxes\u001b[0m\u001b[0;34m)\u001b[0m\u001b[0;34m\u001b[0m\u001b[0;34m\u001b[0m\u001b[0m\n\u001b[0m\u001b[1;32m    312\u001b[0m         \u001b[0;32mif\u001b[0m \u001b[0mlen\u001b[0m\u001b[0;34m(\u001b[0m\u001b[0mself\u001b[0m\u001b[0;34m.\u001b[0m\u001b[0mitems\u001b[0m\u001b[0;34m)\u001b[0m \u001b[0;34m!=\u001b[0m \u001b[0mtot_items\u001b[0m\u001b[0;34m:\u001b[0m\u001b[0;34m\u001b[0m\u001b[0;34m\u001b[0m\u001b[0m\n",
      "\u001b[0;32m~/anaconda3/lib/python3.7/site-packages/pandas/core/internals/managers.py\u001b[0m in \u001b[0;36mconstruction_error\u001b[0;34m(tot_items, block_shape, axes, e)\u001b[0m\n\u001b[1;32m   1690\u001b[0m     raise ValueError(\"Shape of passed values is {0}, indices imply {1}\".format(\n\u001b[0;32m-> 1691\u001b[0;31m         passed, implied))\n\u001b[0m\u001b[1;32m   1692\u001b[0m \u001b[0;34m\u001b[0m\u001b[0m\n",
      "\u001b[0;31mValueError\u001b[0m: Shape of passed values is (298, 1), indices imply (1800, 1)",
      "\nDuring handling of the above exception, another exception occurred:\n",
      "\u001b[0;31mValueError\u001b[0m                                Traceback (most recent call last)",
      "\u001b[0;32m<ipython-input-189-ec92e5864080>\u001b[0m in \u001b[0;36m<module>\u001b[0;34m\u001b[0m\n\u001b[0;32m----> 1\u001b[0;31m \u001b[0mword_importance\u001b[0m \u001b[0;34m=\u001b[0m \u001b[0mpd\u001b[0m\u001b[0;34m.\u001b[0m\u001b[0mDataFrame\u001b[0m\u001b[0;34m(\u001b[0m\u001b[0msvc\u001b[0m\u001b[0;34m.\u001b[0m\u001b[0mdecision_function\u001b[0m\u001b[0;34m(\u001b[0m\u001b[0mX_vec\u001b[0m\u001b[0;34m)\u001b[0m\u001b[0;34m,\u001b[0m \u001b[0mindex\u001b[0m\u001b[0;34m=\u001b[0m\u001b[0mtfidf\u001b[0m\u001b[0;34m.\u001b[0m\u001b[0mget_feature_names\u001b[0m\u001b[0;34m(\u001b[0m\u001b[0;34m)\u001b[0m\u001b[0;34m)\u001b[0m\u001b[0;34m\u001b[0m\u001b[0;34m\u001b[0m\u001b[0m\n\u001b[0m",
      "\u001b[0;32m~/anaconda3/lib/python3.7/site-packages/pandas/core/frame.py\u001b[0m in \u001b[0;36m__init__\u001b[0;34m(self, data, index, columns, dtype, copy)\u001b[0m\n\u001b[1;32m    422\u001b[0m             \u001b[0;32melse\u001b[0m\u001b[0;34m:\u001b[0m\u001b[0;34m\u001b[0m\u001b[0;34m\u001b[0m\u001b[0m\n\u001b[1;32m    423\u001b[0m                 mgr = init_ndarray(data, index, columns, dtype=dtype,\n\u001b[0;32m--> 424\u001b[0;31m                                    copy=copy)\n\u001b[0m\u001b[1;32m    425\u001b[0m \u001b[0;34m\u001b[0m\u001b[0m\n\u001b[1;32m    426\u001b[0m         \u001b[0;31m# For data is list-like, or Iterable (will consume into list)\u001b[0m\u001b[0;34m\u001b[0m\u001b[0;34m\u001b[0m\u001b[0;34m\u001b[0m\u001b[0m\n",
      "\u001b[0;32m~/anaconda3/lib/python3.7/site-packages/pandas/core/internals/construction.py\u001b[0m in \u001b[0;36minit_ndarray\u001b[0;34m(values, index, columns, dtype, copy)\u001b[0m\n\u001b[1;32m    165\u001b[0m         \u001b[0mvalues\u001b[0m \u001b[0;34m=\u001b[0m \u001b[0mmaybe_infer_to_datetimelike\u001b[0m\u001b[0;34m(\u001b[0m\u001b[0mvalues\u001b[0m\u001b[0;34m)\u001b[0m\u001b[0;34m\u001b[0m\u001b[0;34m\u001b[0m\u001b[0m\n\u001b[1;32m    166\u001b[0m \u001b[0;34m\u001b[0m\u001b[0m\n\u001b[0;32m--> 167\u001b[0;31m     \u001b[0;32mreturn\u001b[0m \u001b[0mcreate_block_manager_from_blocks\u001b[0m\u001b[0;34m(\u001b[0m\u001b[0;34m[\u001b[0m\u001b[0mvalues\u001b[0m\u001b[0;34m]\u001b[0m\u001b[0;34m,\u001b[0m \u001b[0;34m[\u001b[0m\u001b[0mcolumns\u001b[0m\u001b[0;34m,\u001b[0m \u001b[0mindex\u001b[0m\u001b[0;34m]\u001b[0m\u001b[0;34m)\u001b[0m\u001b[0;34m\u001b[0m\u001b[0;34m\u001b[0m\u001b[0m\n\u001b[0m\u001b[1;32m    168\u001b[0m \u001b[0;34m\u001b[0m\u001b[0m\n\u001b[1;32m    169\u001b[0m \u001b[0;34m\u001b[0m\u001b[0m\n",
      "\u001b[0;32m~/anaconda3/lib/python3.7/site-packages/pandas/core/internals/managers.py\u001b[0m in \u001b[0;36mcreate_block_manager_from_blocks\u001b[0;34m(blocks, axes)\u001b[0m\n\u001b[1;32m   1658\u001b[0m         \u001b[0mblocks\u001b[0m \u001b[0;34m=\u001b[0m \u001b[0;34m[\u001b[0m\u001b[0mgetattr\u001b[0m\u001b[0;34m(\u001b[0m\u001b[0mb\u001b[0m\u001b[0;34m,\u001b[0m \u001b[0;34m'values'\u001b[0m\u001b[0;34m,\u001b[0m \u001b[0mb\u001b[0m\u001b[0;34m)\u001b[0m \u001b[0;32mfor\u001b[0m \u001b[0mb\u001b[0m \u001b[0;32min\u001b[0m \u001b[0mblocks\u001b[0m\u001b[0;34m]\u001b[0m\u001b[0;34m\u001b[0m\u001b[0;34m\u001b[0m\u001b[0m\n\u001b[1;32m   1659\u001b[0m         \u001b[0mtot_items\u001b[0m \u001b[0;34m=\u001b[0m \u001b[0msum\u001b[0m\u001b[0;34m(\u001b[0m\u001b[0mb\u001b[0m\u001b[0;34m.\u001b[0m\u001b[0mshape\u001b[0m\u001b[0;34m[\u001b[0m\u001b[0;36m0\u001b[0m\u001b[0;34m]\u001b[0m \u001b[0;32mfor\u001b[0m \u001b[0mb\u001b[0m \u001b[0;32min\u001b[0m \u001b[0mblocks\u001b[0m\u001b[0;34m)\u001b[0m\u001b[0;34m\u001b[0m\u001b[0;34m\u001b[0m\u001b[0m\n\u001b[0;32m-> 1660\u001b[0;31m         \u001b[0mconstruction_error\u001b[0m\u001b[0;34m(\u001b[0m\u001b[0mtot_items\u001b[0m\u001b[0;34m,\u001b[0m \u001b[0mblocks\u001b[0m\u001b[0;34m[\u001b[0m\u001b[0;36m0\u001b[0m\u001b[0;34m]\u001b[0m\u001b[0;34m.\u001b[0m\u001b[0mshape\u001b[0m\u001b[0;34m[\u001b[0m\u001b[0;36m1\u001b[0m\u001b[0;34m:\u001b[0m\u001b[0;34m]\u001b[0m\u001b[0;34m,\u001b[0m \u001b[0maxes\u001b[0m\u001b[0;34m,\u001b[0m \u001b[0me\u001b[0m\u001b[0;34m)\u001b[0m\u001b[0;34m\u001b[0m\u001b[0;34m\u001b[0m\u001b[0m\n\u001b[0m\u001b[1;32m   1661\u001b[0m \u001b[0;34m\u001b[0m\u001b[0m\n\u001b[1;32m   1662\u001b[0m \u001b[0;34m\u001b[0m\u001b[0m\n",
      "\u001b[0;32m~/anaconda3/lib/python3.7/site-packages/pandas/core/internals/managers.py\u001b[0m in \u001b[0;36mconstruction_error\u001b[0;34m(tot_items, block_shape, axes, e)\u001b[0m\n\u001b[1;32m   1689\u001b[0m         \u001b[0;32mraise\u001b[0m \u001b[0mValueError\u001b[0m\u001b[0;34m(\u001b[0m\u001b[0;34m\"Empty data passed with indices specified.\"\u001b[0m\u001b[0;34m)\u001b[0m\u001b[0;34m\u001b[0m\u001b[0;34m\u001b[0m\u001b[0m\n\u001b[1;32m   1690\u001b[0m     raise ValueError(\"Shape of passed values is {0}, indices imply {1}\".format(\n\u001b[0;32m-> 1691\u001b[0;31m         passed, implied))\n\u001b[0m\u001b[1;32m   1692\u001b[0m \u001b[0;34m\u001b[0m\u001b[0m\n\u001b[1;32m   1693\u001b[0m \u001b[0;34m\u001b[0m\u001b[0m\n",
      "\u001b[0;31mValueError\u001b[0m: Shape of passed values is (298, 1), indices imply (1800, 1)"
     ]
    }
   ],
   "source": [
    "word_importance = pd.DataFrame(rf.feature_importances_, index=tfidf.get_feature_names())"
   ]
  },
  {
   "cell_type": "code",
   "execution_count": 192,
   "metadata": {},
   "outputs": [
    {
     "data": {
      "text/plain": [
       "<1x127 sparse matrix of type '<class 'numpy.float64'>'\n",
       "\twith 127 stored elements in Compressed Sparse Row format>"
      ]
     },
     "execution_count": 192,
     "metadata": {},
     "output_type": "execute_result"
    }
   ],
   "source": []
  },
  {
   "cell_type": "code",
   "execution_count": 56,
   "metadata": {},
   "outputs": [
    {
     "data": {
      "text/html": [
       "<div>\n",
       "<style scoped>\n",
       "    .dataframe tbody tr th:only-of-type {\n",
       "        vertical-align: middle;\n",
       "    }\n",
       "\n",
       "    .dataframe tbody tr th {\n",
       "        vertical-align: top;\n",
       "    }\n",
       "\n",
       "    .dataframe thead th {\n",
       "        text-align: right;\n",
       "    }\n",
       "</style>\n",
       "<table border=\"1\" class=\"dataframe\">\n",
       "  <thead>\n",
       "    <tr style=\"text-align: right;\">\n",
       "      <th></th>\n",
       "      <th>0</th>\n",
       "    </tr>\n",
       "  </thead>\n",
       "  <tbody>\n",
       "    <tr>\n",
       "      <th>when  communication  if  you</th>\n",
       "      <td>0.129208</td>\n",
       "    </tr>\n",
       "    <tr>\n",
       "      <th>are  unable  more</th>\n",
       "      <td>0.125142</td>\n",
       "    </tr>\n",
       "    <tr>\n",
       "      <th>to  appreciate</th>\n",
       "      <td>0.124459</td>\n",
       "    </tr>\n",
       "    <tr>\n",
       "      <th>falters  when</th>\n",
       "      <td>0.123368</td>\n",
       "    </tr>\n",
       "    <tr>\n",
       "      <th>and  beyond</th>\n",
       "      <td>0.087721</td>\n",
       "    </tr>\n",
       "    <tr>\n",
       "      <th>become  the</th>\n",
       "      <td>0.081682</td>\n",
       "    </tr>\n",
       "    <tr>\n",
       "      <th>the  time  to</th>\n",
       "      <td>0.075194</td>\n",
       "    </tr>\n",
       "    <tr>\n",
       "      <th>your  inner</th>\n",
       "      <td>0.074954</td>\n",
       "    </tr>\n",
       "    <tr>\n",
       "      <th>ketogenic  ketolifestyle  fittoservegroup</th>\n",
       "      <td>0.050347</td>\n",
       "    </tr>\n",
       "    <tr>\n",
       "      <th>jul  th  pm  tonight</th>\n",
       "      <td>0.045838</td>\n",
       "    </tr>\n",
       "    <tr>\n",
       "      <th>an  more</th>\n",
       "      <td>0.044951</td>\n",
       "    </tr>\n",
       "    <tr>\n",
       "      <th>s  as</th>\n",
       "      <td>0.037138</td>\n",
       "    </tr>\n",
       "    <tr>\n",
       "      <th>screenprinting  love  halloween  cute  starwarsfan</th>\n",
       "      <td>0.000000</td>\n",
       "    </tr>\n",
       "    <tr>\n",
       "      <th>se  han</th>\n",
       "      <td>0.000000</td>\n",
       "    </tr>\n",
       "    <tr>\n",
       "      <th>screenprinting  love</th>\n",
       "      <td>0.000000</td>\n",
       "    </tr>\n",
       "    <tr>\n",
       "      <th>screenprinting  love  halloween  cute</th>\n",
       "      <td>0.000000</td>\n",
       "    </tr>\n",
       "    <tr>\n",
       "      <th>screenprinting  love  halloween</th>\n",
       "      <td>0.000000</td>\n",
       "    </tr>\n",
       "    <tr>\n",
       "      <th>scared  of</th>\n",
       "      <td>0.000000</td>\n",
       "    </tr>\n",
       "    <tr>\n",
       "      <th>says  the</th>\n",
       "      <td>0.000000</td>\n",
       "    </tr>\n",
       "    <tr>\n",
       "      <th>says  s</th>\n",
       "      <td>0.000000</td>\n",
       "    </tr>\n",
       "    <tr>\n",
       "      <th>se  les</th>\n",
       "      <td>0.000000</td>\n",
       "    </tr>\n",
       "    <tr>\n",
       "      <th>a  break</th>\n",
       "      <td>0.000000</td>\n",
       "    </tr>\n",
       "    <tr>\n",
       "      <th>se  llama</th>\n",
       "      <td>0.000000</td>\n",
       "    </tr>\n",
       "    <tr>\n",
       "      <th>see  all</th>\n",
       "      <td>0.000000</td>\n",
       "    </tr>\n",
       "    <tr>\n",
       "      <th>saying  that</th>\n",
       "      <td>0.000000</td>\n",
       "    </tr>\n",
       "    <tr>\n",
       "      <th>see  in</th>\n",
       "      <td>0.000000</td>\n",
       "    </tr>\n",
       "    <tr>\n",
       "      <th>see  your</th>\n",
       "      <td>0.000000</td>\n",
       "    </tr>\n",
       "    <tr>\n",
       "      <th>seems  to  be</th>\n",
       "      <td>0.000000</td>\n",
       "    </tr>\n",
       "    <tr>\n",
       "      <th>sending  you</th>\n",
       "      <td>0.000000</td>\n",
       "    </tr>\n",
       "    <tr>\n",
       "      <th>set  to</th>\n",
       "      <td>0.000000</td>\n",
       "    </tr>\n",
       "    <tr>\n",
       "      <th>...</th>\n",
       "      <td>...</td>\n",
       "    </tr>\n",
       "    <tr>\n",
       "      <th>has  been  a</th>\n",
       "      <td>0.000000</td>\n",
       "    </tr>\n",
       "    <tr>\n",
       "      <th>i  can  do</th>\n",
       "      <td>0.000000</td>\n",
       "    </tr>\n",
       "    <tr>\n",
       "      <th>has  changed</th>\n",
       "      <td>0.000000</td>\n",
       "    </tr>\n",
       "    <tr>\n",
       "      <th>has  it</th>\n",
       "      <td>0.000000</td>\n",
       "    </tr>\n",
       "    <tr>\n",
       "      <th>has  not</th>\n",
       "      <td>0.000000</td>\n",
       "    </tr>\n",
       "    <tr>\n",
       "      <th>has  nothing</th>\n",
       "      <td>0.000000</td>\n",
       "    </tr>\n",
       "    <tr>\n",
       "      <th>has  visto</th>\n",
       "      <td>0.000000</td>\n",
       "    </tr>\n",
       "    <tr>\n",
       "      <th>hate  it</th>\n",
       "      <td>0.000000</td>\n",
       "    </tr>\n",
       "    <tr>\n",
       "      <th>hate  that</th>\n",
       "      <td>0.000000</td>\n",
       "    </tr>\n",
       "    <tr>\n",
       "      <th>have  a  beautiful</th>\n",
       "      <td>0.000000</td>\n",
       "    </tr>\n",
       "    <tr>\n",
       "      <th>have  fun</th>\n",
       "      <td>0.000000</td>\n",
       "    </tr>\n",
       "    <tr>\n",
       "      <th>hay  un</th>\n",
       "      <td>0.000000</td>\n",
       "    </tr>\n",
       "    <tr>\n",
       "      <th>he  really</th>\n",
       "      <td>0.000000</td>\n",
       "    </tr>\n",
       "    <tr>\n",
       "      <th>hear  from</th>\n",
       "      <td>0.000000</td>\n",
       "    </tr>\n",
       "    <tr>\n",
       "      <th>hear  the</th>\n",
       "      <td>0.000000</td>\n",
       "    </tr>\n",
       "    <tr>\n",
       "      <th>hecht  athletic</th>\n",
       "      <td>0.000000</td>\n",
       "    </tr>\n",
       "    <tr>\n",
       "      <th>help  to</th>\n",
       "      <td>0.000000</td>\n",
       "    </tr>\n",
       "    <tr>\n",
       "      <th>help  with</th>\n",
       "      <td>0.000000</td>\n",
       "    </tr>\n",
       "    <tr>\n",
       "      <th>her  a</th>\n",
       "      <td>0.000000</td>\n",
       "    </tr>\n",
       "    <tr>\n",
       "      <th>hijo  de</th>\n",
       "      <td>0.000000</td>\n",
       "    </tr>\n",
       "    <tr>\n",
       "      <th>his  first</th>\n",
       "      <td>0.000000</td>\n",
       "    </tr>\n",
       "    <tr>\n",
       "      <th>hola  como</th>\n",
       "      <td>0.000000</td>\n",
       "    </tr>\n",
       "    <tr>\n",
       "      <th>home  in</th>\n",
       "      <td>0.000000</td>\n",
       "    </tr>\n",
       "    <tr>\n",
       "      <th>hope  to</th>\n",
       "      <td>0.000000</td>\n",
       "    </tr>\n",
       "    <tr>\n",
       "      <th>hosted  by</th>\n",
       "      <td>0.000000</td>\n",
       "    </tr>\n",
       "    <tr>\n",
       "      <th>house  and</th>\n",
       "      <td>0.000000</td>\n",
       "    </tr>\n",
       "    <tr>\n",
       "      <th>house  of</th>\n",
       "      <td>0.000000</td>\n",
       "    </tr>\n",
       "    <tr>\n",
       "      <th>how  does</th>\n",
       "      <td>0.000000</td>\n",
       "    </tr>\n",
       "    <tr>\n",
       "      <th>how  s</th>\n",
       "      <td>0.000000</td>\n",
       "    </tr>\n",
       "    <tr>\n",
       "      <th>yourself  and</th>\n",
       "      <td>0.000000</td>\n",
       "    </tr>\n",
       "  </tbody>\n",
       "</table>\n",
       "<p>1000 rows × 1 columns</p>\n",
       "</div>"
      ],
      "text/plain": [
       "                                                           0\n",
       "when  communication  if  you                        0.129208\n",
       "are  unable  more                                   0.125142\n",
       "to  appreciate                                      0.124459\n",
       "falters  when                                       0.123368\n",
       "and  beyond                                         0.087721\n",
       "become  the                                         0.081682\n",
       "the  time  to                                       0.075194\n",
       "your  inner                                         0.074954\n",
       "ketogenic  ketolifestyle  fittoservegroup           0.050347\n",
       "jul  th  pm  tonight                                0.045838\n",
       "an  more                                            0.044951\n",
       "s  as                                               0.037138\n",
       "screenprinting  love  halloween  cute  starwars...  0.000000\n",
       "se  han                                             0.000000\n",
       "screenprinting  love                                0.000000\n",
       "screenprinting  love  halloween  cute               0.000000\n",
       "screenprinting  love  halloween                     0.000000\n",
       "scared  of                                          0.000000\n",
       "says  the                                           0.000000\n",
       "says  s                                             0.000000\n",
       "se  les                                             0.000000\n",
       "a  break                                            0.000000\n",
       "se  llama                                           0.000000\n",
       "see  all                                            0.000000\n",
       "saying  that                                        0.000000\n",
       "see  in                                             0.000000\n",
       "see  your                                           0.000000\n",
       "seems  to  be                                       0.000000\n",
       "sending  you                                        0.000000\n",
       "set  to                                             0.000000\n",
       "...                                                      ...\n",
       "has  been  a                                        0.000000\n",
       "i  can  do                                          0.000000\n",
       "has  changed                                        0.000000\n",
       "has  it                                             0.000000\n",
       "has  not                                            0.000000\n",
       "has  nothing                                        0.000000\n",
       "has  visto                                          0.000000\n",
       "hate  it                                            0.000000\n",
       "hate  that                                          0.000000\n",
       "have  a  beautiful                                  0.000000\n",
       "have  fun                                           0.000000\n",
       "hay  un                                             0.000000\n",
       "he  really                                          0.000000\n",
       "hear  from                                          0.000000\n",
       "hear  the                                           0.000000\n",
       "hecht  athletic                                     0.000000\n",
       "help  to                                            0.000000\n",
       "help  with                                          0.000000\n",
       "her  a                                              0.000000\n",
       "hijo  de                                            0.000000\n",
       "his  first                                          0.000000\n",
       "hola  como                                          0.000000\n",
       "home  in                                            0.000000\n",
       "hope  to                                            0.000000\n",
       "hosted  by                                          0.000000\n",
       "house  and                                          0.000000\n",
       "house  of                                           0.000000\n",
       "how  does                                           0.000000\n",
       "how  s                                              0.000000\n",
       "yourself  and                                       0.000000\n",
       "\n",
       "[1000 rows x 1 columns]"
      ]
     },
     "execution_count": 56,
     "metadata": {},
     "output_type": "execute_result"
    }
   ],
   "source": [
    "word_importance.sort_values(0, ascending=False)"
   ]
  }
 ],
 "metadata": {
  "kernelspec": {
   "display_name": "Python 3",
   "language": "python",
   "name": "python3"
  },
  "language_info": {
   "codemirror_mode": {
    "name": "ipython",
    "version": 3
   },
   "file_extension": ".py",
   "mimetype": "text/x-python",
   "name": "python",
   "nbconvert_exporter": "python",
   "pygments_lexer": "ipython3",
   "version": "3.7.3"
  }
 },
 "nbformat": 4,
 "nbformat_minor": 2
}
