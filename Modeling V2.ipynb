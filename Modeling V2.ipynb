{
 "cells": [
  {
   "cell_type": "markdown",
   "metadata": {},
   "source": [
    "# Imports"
   ]
  },
  {
   "cell_type": "code",
   "execution_count": 409,
   "metadata": {
    "ExecuteTime": {
     "end_time": "2019-07-31T19:13:57.426408Z",
     "start_time": "2019-07-31T19:13:57.420373Z"
    }
   },
   "outputs": [],
   "source": [
    "#data stuff\n",
    "import pandas as pd\n",
    "\n",
    "#Modelling\n",
    "from sklearn.pipeline import Pipeline\n",
    "from sklearn.model_selection import train_test_split, GridSearchCV, cross_val_score\n",
    "from sklearn.linear_model import LogisticRegression\n",
    "from sklearn.neighbors import KNeighborsClassifier\n",
    "from sklearn.naive_bayes import MultinomialNB, GaussianNB\n",
    "from sklearn.feature_extraction import text\n",
    "from sklearn.ensemble import RandomForestClassifier\n",
    "\n",
    "#NLP\n",
    "import nltk\n",
    "from nltk.stem import WordNetLemmatizer\n",
    "from nltk.tokenize import RegexpTokenizer\n",
    "from nltk.corpus import stopwords\n",
    "from sklearn.feature_extraction import stop_words\n",
    "from sklearn.feature_extraction.text import CountVectorizer, TfidfVectorizer\n",
    "from nltk.tokenize import RegexpTokenizer\n",
    "import re\n",
    "import gensim\n",
    "\n",
    "#other\n",
    "from tqdm import tqdm_notebook"
   ]
  },
  {
   "cell_type": "markdown",
   "metadata": {
    "heading_collapsed": true
   },
   "source": [
    "# Formatting X"
   ]
  },
  {
   "cell_type": "code",
   "execution_count": 170,
   "metadata": {
    "ExecuteTime": {
     "end_time": "2019-07-31T00:22:54.344082Z",
     "start_time": "2019-07-31T00:22:54.338629Z"
    },
    "hidden": true
   },
   "outputs": [],
   "source": [
    "files = ['@TotalTrafficMIA',\n",
    "         '@TrafficAlertSFL', '@nbc6', '@CBSMiami', '@wsvn', '@MiamiHerald', '@SunSentinel', '@miaminewsnow',\n",
    "         '@BeachNewsAlerts', '@WPLGLocal10', \n",
    "       '@MiamiBeachPD', '@miamibeachnews', '@FLTurnpikeSFL']"
   ]
  },
  {
   "cell_type": "code",
   "execution_count": 65,
   "metadata": {
    "ExecuteTime": {
     "end_time": "2019-07-30T20:35:04.136007Z",
     "start_time": "2019-07-30T20:34:22.806317Z"
    },
    "hidden": true
   },
   "outputs": [
    {
     "data": {
      "application/vnd.jupyter.widget-view+json": {
       "model_id": "722615cc3c6a4e16823fdba3041416b6",
       "version_major": 2,
       "version_minor": 0
      },
      "text/plain": [
       "HBox(children=(IntProgress(value=0, max=13), HTML(value='')))"
      ]
     },
     "metadata": {},
     "output_type": "display_data"
    }
   ],
   "source": [
    "datum = []\n",
    "\n",
    "for filename in tqdm_notebook(files):\n",
    "    data = pd.read_csv(f'Datasets/siteloop_{filename}.csv')\n",
    "    data.drop(columns=['User','User_ID','Geo'], inplace = True)\n",
    "    data['Date'] = pd.to_datetime(data['Date'])\n",
    "    data['Date'] = data.assign(Date=data['Date'].dt.round('H'))['Date']\n",
    "    times = []\n",
    "    times.append(data['Date'][0])\n",
    "\n",
    "    for i in data.index:\n",
    "        time = data['Date'][i]\n",
    "        if time != times[len(times)-1]:\n",
    "            times.append(time)\n",
    "\n",
    "    dic = {'time': [], f'{filename}': []}\n",
    "\n",
    "    for hour in times:\n",
    "        total = ''\n",
    "        tweets = list(data[data['Date'] == hour]['Tweet'])\n",
    "        for twit in tweets:\n",
    "            total += str(twit)\n",
    "        dic['time'].append(hour)\n",
    "        dic[f'{filename}'].append(total)\n",
    "    exec(f'data_{filename[1:]} = pd.DataFrame.from_dict(dic)')\n",
    "    \n",
    "    exec(f'data_{filename[1:]}.set_index(\"time\", inplace=True)')\n",
    "    exec(f'data_{filename[1:]}.sort_index(inplace=True)')\n",
    "    \n",
    "    exec(f'datum.append(data_{filename[1:]})')\n",
    "df = pd.concat(datum, axis=1)\n",
    "df.fillna('', inplace=True)"
   ]
  },
  {
   "cell_type": "code",
   "execution_count": 77,
   "metadata": {
    "ExecuteTime": {
     "end_time": "2019-07-30T20:48:15.878295Z",
     "start_time": "2019-07-30T20:48:15.857462Z"
    },
    "hidden": true
   },
   "outputs": [],
   "source": [
    "df['ALL'] = df['@TotalTrafficMIA'] + df['@TrafficAlertSFL'] + df['@nbc6'] + df['@CBSMiami'] + df['@wsvn'] +\\\n",
    "            df['@MiamiHerald'] +  df['@SunSentinel'] + df['@miaminewsnow'] + df['@BeachNewsAlerts'] + df['@WPLGLocal10'] +\\\n",
    "            df['@MiamiBeachPD'] + df['@miamibeachnews'] + df['@FLTurnpikeSFL']"
   ]
  },
  {
   "cell_type": "markdown",
   "metadata": {
    "heading_collapsed": true
   },
   "source": [
    "# Format X attempt 2"
   ]
  },
  {
   "cell_type": "code",
   "execution_count": 388,
   "metadata": {
    "ExecuteTime": {
     "end_time": "2019-07-31T17:50:51.226894Z",
     "start_time": "2019-07-31T17:50:51.221931Z"
    },
    "hidden": true
   },
   "outputs": [],
   "source": [
    "files = ['@TotalTrafficMIA', '@TrafficAlertSFL', '@nbc6', '@CBSMiami', '@wsvn', '@MiamiHerald', '@SunSentinel', \n",
    "        '@WPLGLocal10', '@miaminewsnow', '@BeachNewsAlerts', '@FLTurnpikeSFL', \n",
    "       '@MiamiBeachPD', '@miamibeachnews']\n",
    "# '@breakingnewsmia',"
   ]
  },
  {
   "cell_type": "code",
   "execution_count": 389,
   "metadata": {
    "ExecuteTime": {
     "end_time": "2019-07-31T17:52:15.250874Z",
     "start_time": "2019-07-31T17:50:52.543275Z"
    },
    "hidden": true
   },
   "outputs": [
    {
     "data": {
      "application/vnd.jupyter.widget-view+json": {
       "model_id": "df02bded978346d38f3f6ffec18f2ec0",
       "version_major": 2,
       "version_minor": 0
      },
      "text/plain": [
       "HBox(children=(IntProgress(value=0, max=13), HTML(value='')))"
      ]
     },
     "metadata": {},
     "output_type": "display_data"
    }
   ],
   "source": [
    "datum = []\n",
    "\n",
    "for filename in tqdm_notebook(files):\n",
    "    data = pd.read_csv(f'Datasets/siteloop_{filename}.csv')\n",
    "    data.drop(columns=['User','User_ID','Geo'], inplace = True)\n",
    "    data['Date'] = pd.to_datetime(data['Date'])\n",
    "    data['Date'] = data.assign(Date=data['Date'].dt.round('T'))['Date']\n",
    "    times = []\n",
    "    times.append(data['Date'][0])\n",
    "\n",
    "    for i in data.index:\n",
    "        time = data['Date'][i]\n",
    "        if time != times[len(times)-1]:\n",
    "            times.append(time)\n",
    "\n",
    "    dic = {'time': [], f'{filename}': []}\n",
    "\n",
    "    for hour in times:\n",
    "        total = ''\n",
    "        tweets = list(data[data['Date'] == hour]['Tweet'])\n",
    "        for twit in tweets:\n",
    "            total += str(twit)\n",
    "        dic['time'].append(hour)\n",
    "        dic[f'{filename}'].append(total)\n",
    "    exec(f'data_{filename[1:]} = pd.DataFrame.from_dict(dic)')\n",
    "    \n",
    "    exec(f'data_{filename[1:]}.set_index(\"time\", inplace=True)')\n",
    "    exec(f'data_{filename[1:]}.sort_index(inplace=True)')\n",
    "    \n",
    "    exec(f'datum.append(data_{filename[1:]})')\n",
    "df = pd.concat(datum, axis=1)\n",
    "df.fillna('', inplace=True)"
   ]
  },
  {
   "cell_type": "code",
   "execution_count": 390,
   "metadata": {
    "ExecuteTime": {
     "end_time": "2019-07-31T17:52:20.723131Z",
     "start_time": "2019-07-31T17:52:20.550020Z"
    },
    "hidden": true,
    "scrolled": false
   },
   "outputs": [],
   "source": [
    "df['ALL'] = df['@TotalTrafficMIA'] + df['@TrafficAlertSFL'] + df['@nbc6'] + df['@CBSMiami'] + df['@wsvn'] +\\\n",
    "            df['@MiamiHerald'] +  df['@SunSentinel'] + df['@miaminewsnow'] + df['@BeachNewsAlerts'] + df['@WPLGLocal10'] +\\\n",
    "            df['@MiamiBeachPD'] + df['@miamibeachnews'] + df['@FLTurnpikeSFL']"
   ]
  },
  {
   "cell_type": "code",
   "execution_count": 391,
   "metadata": {
    "ExecuteTime": {
     "end_time": "2019-07-31T17:52:21.922957Z",
     "start_time": "2019-07-31T17:52:21.900636Z"
    },
    "hidden": true,
    "scrolled": true
   },
   "outputs": [
    {
     "data": {
      "text/html": [
       "<div>\n",
       "<style scoped>\n",
       "    .dataframe tbody tr th:only-of-type {\n",
       "        vertical-align: middle;\n",
       "    }\n",
       "\n",
       "    .dataframe tbody tr th {\n",
       "        vertical-align: top;\n",
       "    }\n",
       "\n",
       "    .dataframe thead th {\n",
       "        text-align: right;\n",
       "    }\n",
       "</style>\n",
       "<table border=\"1\" class=\"dataframe\">\n",
       "  <thead>\n",
       "    <tr style=\"text-align: right;\">\n",
       "      <th></th>\n",
       "      <th>@TotalTrafficMIA</th>\n",
       "      <th>@TrafficAlertSFL</th>\n",
       "      <th>@nbc6</th>\n",
       "      <th>@CBSMiami</th>\n",
       "      <th>@wsvn</th>\n",
       "      <th>@MiamiHerald</th>\n",
       "      <th>@SunSentinel</th>\n",
       "      <th>@WPLGLocal10</th>\n",
       "      <th>@miaminewsnow</th>\n",
       "      <th>@BeachNewsAlerts</th>\n",
       "      <th>@FLTurnpikeSFL</th>\n",
       "      <th>@MiamiBeachPD</th>\n",
       "      <th>@miamibeachnews</th>\n",
       "      <th>ALL</th>\n",
       "    </tr>\n",
       "    <tr>\n",
       "      <th>time</th>\n",
       "      <th></th>\n",
       "      <th></th>\n",
       "      <th></th>\n",
       "      <th></th>\n",
       "      <th></th>\n",
       "      <th></th>\n",
       "      <th></th>\n",
       "      <th></th>\n",
       "      <th></th>\n",
       "      <th></th>\n",
       "      <th></th>\n",
       "      <th></th>\n",
       "      <th></th>\n",
       "      <th></th>\n",
       "    </tr>\n",
       "  </thead>\n",
       "  <tbody>\n",
       "    <tr>\n",
       "      <th>2019-01-01 00:02:00+00:00</th>\n",
       "      <td></td>\n",
       "      <td></td>\n",
       "      <td></td>\n",
       "      <td></td>\n",
       "      <td></td>\n",
       "      <td></td>\n",
       "      <td>Videos show staff of now-shuttered Arizona she...</td>\n",
       "      <td></td>\n",
       "      <td></td>\n",
       "      <td></td>\n",
       "      <td></td>\n",
       "      <td></td>\n",
       "      <td></td>\n",
       "      <td>Videos show staff of now-shuttered Arizona she...</td>\n",
       "    </tr>\n",
       "    <tr>\n",
       "      <th>2019-01-01 00:07:00+00:00</th>\n",
       "      <td></td>\n",
       "      <td></td>\n",
       "      <td></td>\n",
       "      <td></td>\n",
       "      <td></td>\n",
       "      <td></td>\n",
       "      <td>UM's Manny Diaz fires Hurricanes' offensive st...</td>\n",
       "      <td></td>\n",
       "      <td></td>\n",
       "      <td></td>\n",
       "      <td></td>\n",
       "      <td></td>\n",
       "      <td></td>\n",
       "      <td>UM's Manny Diaz fires Hurricanes' offensive st...</td>\n",
       "    </tr>\n",
       "    <tr>\n",
       "      <th>2019-01-01 00:35:00+00:00</th>\n",
       "      <td></td>\n",
       "      <td></td>\n",
       "      <td></td>\n",
       "      <td></td>\n",
       "      <td></td>\n",
       "      <td></td>\n",
       "      <td>Hurricanes linebacker Michael Pinckney returni...</td>\n",
       "      <td></td>\n",
       "      <td></td>\n",
       "      <td></td>\n",
       "      <td></td>\n",
       "      <td></td>\n",
       "      <td></td>\n",
       "      <td>Hurricanes linebacker Michael Pinckney returni...</td>\n",
       "    </tr>\n",
       "    <tr>\n",
       "      <th>2019-01-01 00:44:00+00:00</th>\n",
       "      <td></td>\n",
       "      <td></td>\n",
       "      <td>Before the party animals come out for tonight'...</td>\n",
       "      <td></td>\n",
       "      <td></td>\n",
       "      <td></td>\n",
       "      <td></td>\n",
       "      <td></td>\n",
       "      <td></td>\n",
       "      <td></td>\n",
       "      <td></td>\n",
       "      <td></td>\n",
       "      <td></td>\n",
       "      <td>Before the party animals come out for tonight'...</td>\n",
       "    </tr>\n",
       "    <tr>\n",
       "      <th>2019-01-01 00:47:00+00:00</th>\n",
       "      <td>Police activity; off-ramp 2 right lanes blocke...</td>\n",
       "      <td></td>\n",
       "      <td></td>\n",
       "      <td></td>\n",
       "      <td></td>\n",
       "      <td></td>\n",
       "      <td></td>\n",
       "      <td></td>\n",
       "      <td></td>\n",
       "      <td></td>\n",
       "      <td></td>\n",
       "      <td></td>\n",
       "      <td></td>\n",
       "      <td>Police activity; off-ramp 2 right lanes blocke...</td>\n",
       "    </tr>\n",
       "  </tbody>\n",
       "</table>\n",
       "</div>"
      ],
      "text/plain": [
       "                                                            @TotalTrafficMIA  \\\n",
       "time                                                                           \n",
       "2019-01-01 00:02:00+00:00                                                      \n",
       "2019-01-01 00:07:00+00:00                                                      \n",
       "2019-01-01 00:35:00+00:00                                                      \n",
       "2019-01-01 00:44:00+00:00                                                      \n",
       "2019-01-01 00:47:00+00:00  Police activity; off-ramp 2 right lanes blocke...   \n",
       "\n",
       "                          @TrafficAlertSFL  \\\n",
       "time                                         \n",
       "2019-01-01 00:02:00+00:00                    \n",
       "2019-01-01 00:07:00+00:00                    \n",
       "2019-01-01 00:35:00+00:00                    \n",
       "2019-01-01 00:44:00+00:00                    \n",
       "2019-01-01 00:47:00+00:00                    \n",
       "\n",
       "                                                                       @nbc6  \\\n",
       "time                                                                           \n",
       "2019-01-01 00:02:00+00:00                                                      \n",
       "2019-01-01 00:07:00+00:00                                                      \n",
       "2019-01-01 00:35:00+00:00                                                      \n",
       "2019-01-01 00:44:00+00:00  Before the party animals come out for tonight'...   \n",
       "2019-01-01 00:47:00+00:00                                                      \n",
       "\n",
       "                          @CBSMiami @wsvn @MiamiHerald  \\\n",
       "time                                                     \n",
       "2019-01-01 00:02:00+00:00                                \n",
       "2019-01-01 00:07:00+00:00                                \n",
       "2019-01-01 00:35:00+00:00                                \n",
       "2019-01-01 00:44:00+00:00                                \n",
       "2019-01-01 00:47:00+00:00                                \n",
       "\n",
       "                                                                @SunSentinel  \\\n",
       "time                                                                           \n",
       "2019-01-01 00:02:00+00:00  Videos show staff of now-shuttered Arizona she...   \n",
       "2019-01-01 00:07:00+00:00  UM's Manny Diaz fires Hurricanes' offensive st...   \n",
       "2019-01-01 00:35:00+00:00  Hurricanes linebacker Michael Pinckney returni...   \n",
       "2019-01-01 00:44:00+00:00                                                      \n",
       "2019-01-01 00:47:00+00:00                                                      \n",
       "\n",
       "                          @WPLGLocal10 @miaminewsnow @BeachNewsAlerts  \\\n",
       "time                                                                    \n",
       "2019-01-01 00:02:00+00:00                                               \n",
       "2019-01-01 00:07:00+00:00                                               \n",
       "2019-01-01 00:35:00+00:00                                               \n",
       "2019-01-01 00:44:00+00:00                                               \n",
       "2019-01-01 00:47:00+00:00                                               \n",
       "\n",
       "                          @FLTurnpikeSFL @MiamiBeachPD @miamibeachnews  \\\n",
       "time                                                                     \n",
       "2019-01-01 00:02:00+00:00                                                \n",
       "2019-01-01 00:07:00+00:00                                                \n",
       "2019-01-01 00:35:00+00:00                                                \n",
       "2019-01-01 00:44:00+00:00                                                \n",
       "2019-01-01 00:47:00+00:00                                                \n",
       "\n",
       "                                                                         ALL  \n",
       "time                                                                          \n",
       "2019-01-01 00:02:00+00:00  Videos show staff of now-shuttered Arizona she...  \n",
       "2019-01-01 00:07:00+00:00  UM's Manny Diaz fires Hurricanes' offensive st...  \n",
       "2019-01-01 00:35:00+00:00  Hurricanes linebacker Michael Pinckney returni...  \n",
       "2019-01-01 00:44:00+00:00  Before the party animals come out for tonight'...  \n",
       "2019-01-01 00:47:00+00:00  Police activity; off-ramp 2 right lanes blocke...  "
      ]
     },
     "execution_count": 391,
     "metadata": {},
     "output_type": "execute_result"
    }
   ],
   "source": [
    "df.head()"
   ]
  },
  {
   "cell_type": "code",
   "execution_count": 239,
   "metadata": {
    "ExecuteTime": {
     "end_time": "2019-07-31T06:11:37.884796Z",
     "start_time": "2019-07-31T06:11:37.875475Z"
    },
    "hidden": true
   },
   "outputs": [
    {
     "data": {
      "text/plain": [
       "True"
      ]
     },
     "execution_count": 239,
     "metadata": {},
     "output_type": "execute_result"
    }
   ],
   "source": [
    "(df.index[0] + pd.DateOffset(hours = 2) > df.index[j]) and (df.index[0] < df.index[j])"
   ]
  },
  {
   "cell_type": "markdown",
   "metadata": {
    "heading_collapsed": true
   },
   "source": [
    "# X All"
   ]
  },
  {
   "cell_type": "code",
   "execution_count": 423,
   "metadata": {
    "ExecuteTime": {
     "end_time": "2019-07-31T19:30:42.652314Z",
     "start_time": "2019-07-31T19:30:42.647847Z"
    },
    "hidden": true
   },
   "outputs": [],
   "source": [
    "files = ['2019-07-30','2019-07-29','2019-07-28',\n",
    "        '2019-07-27', '2019-07-26', '2019-07-25',\n",
    "        '2019-07-24', '2019-07-23']"
   ]
  },
  {
   "cell_type": "code",
   "execution_count": 424,
   "metadata": {
    "ExecuteTime": {
     "end_time": "2019-07-31T19:33:09.584042Z",
     "start_time": "2019-07-31T19:30:44.387839Z"
    },
    "hidden": true
   },
   "outputs": [
    {
     "data": {
      "application/vnd.jupyter.widget-view+json": {
       "model_id": "84427b0dc0064fedbd97058cac56390c",
       "version_major": 2,
       "version_minor": 0
      },
      "text/plain": [
       "HBox(children=(IntProgress(value=0, max=8), HTML(value='')))"
      ]
     },
     "metadata": {},
     "output_type": "display_data"
    }
   ],
   "source": [
    "datum = []\n",
    "\n",
    "for filename in tqdm_notebook(files):\n",
    "    data = pd.read_csv(f'Datasets/timeloop_{filename}.csv')\n",
    "    data.drop(columns=['User','User_ID','Geo'], inplace = True)\n",
    "    data['Date'] = pd.to_datetime(data['Date'])\n",
    "    data['Date'] = data.assign(Date=data['Date'].dt.round('T'))['Date']\n",
    "    times = []\n",
    "    times.append(data['Date'][0])\n",
    "\n",
    "    for i in data.index:\n",
    "        time = data['Date'][i]\n",
    "        if time != times[len(times)-1]:\n",
    "            times.append(time)\n",
    "\n",
    "    dic = {'time': [], f'Tweet': []}\n",
    "\n",
    "    for hour in times:\n",
    "        total = ''\n",
    "        tweets = list(data[data['Date'] == hour]['Tweet'])\n",
    "        for twit in tweets:\n",
    "            total += str(twit)\n",
    "        dic['time'].append(hour)\n",
    "        dic['Tweet'].append(total)\n",
    "    exec(f'data_{filename[8:]} = pd.DataFrame.from_dict(dic)')\n",
    "    \n",
    "    exec(f'data_{filename[8:]}.set_index(\"time\", inplace=True)')\n",
    "    exec(f'data_{filename[8:]}.sort_index(inplace=True)')\n",
    "    \n",
    "    exec(f'datum.append(data_{filename[8:]})')\n",
    "df = pd.concat(datum, axis=0)\n",
    "df.fillna('', inplace=True)"
   ]
  },
  {
   "cell_type": "code",
   "execution_count": 425,
   "metadata": {
    "ExecuteTime": {
     "end_time": "2019-07-31T19:33:28.213546Z",
     "start_time": "2019-07-31T19:33:28.203128Z"
    },
    "hidden": true
   },
   "outputs": [
    {
     "data": {
      "text/html": [
       "<div>\n",
       "<style scoped>\n",
       "    .dataframe tbody tr th:only-of-type {\n",
       "        vertical-align: middle;\n",
       "    }\n",
       "\n",
       "    .dataframe tbody tr th {\n",
       "        vertical-align: top;\n",
       "    }\n",
       "\n",
       "    .dataframe thead th {\n",
       "        text-align: right;\n",
       "    }\n",
       "</style>\n",
       "<table border=\"1\" class=\"dataframe\">\n",
       "  <thead>\n",
       "    <tr style=\"text-align: right;\">\n",
       "      <th></th>\n",
       "      <th>Tweet</th>\n",
       "    </tr>\n",
       "    <tr>\n",
       "      <th>time</th>\n",
       "      <th></th>\n",
       "    </tr>\n",
       "  </thead>\n",
       "  <tbody>\n",
       "    <tr>\n",
       "      <th>2019-07-29 11:02:00+00:00</th>\n",
       "      <td>Usted, izquierdista , guerrillero, no está en ...</td>\n",
       "    </tr>\n",
       "    <tr>\n",
       "      <th>2019-07-29 11:03:00+00:00</th>\n",
       "      <td>The journey of a thousand miles begins with on...</td>\n",
       "    </tr>\n",
       "    <tr>\n",
       "      <th>2019-07-29 11:04:00+00:00</th>\n",
       "      <td>\"This Human Interaction Study Will Totally Cha...</td>\n",
       "    </tr>\n",
       "    <tr>\n",
       "      <th>2019-07-29 11:05:00+00:00</th>\n",
       "      <td>Wow thats right Harvey took a Southerly track....</td>\n",
       "    </tr>\n",
       "    <tr>\n",
       "      <th>2019-07-29 11:06:00+00:00</th>\n",
       "      <td>Weather over next 8 hours at U of Miami Health...</td>\n",
       "    </tr>\n",
       "  </tbody>\n",
       "</table>\n",
       "</div>"
      ],
      "text/plain": [
       "                                                                       Tweet\n",
       "time                                                                        \n",
       "2019-07-29 11:02:00+00:00  Usted, izquierdista , guerrillero, no está en ...\n",
       "2019-07-29 11:03:00+00:00  The journey of a thousand miles begins with on...\n",
       "2019-07-29 11:04:00+00:00  \"This Human Interaction Study Will Totally Cha...\n",
       "2019-07-29 11:05:00+00:00  Wow thats right Harvey took a Southerly track....\n",
       "2019-07-29 11:06:00+00:00  Weather over next 8 hours at U of Miami Health..."
      ]
     },
     "execution_count": 425,
     "metadata": {},
     "output_type": "execute_result"
    }
   ],
   "source": [
    "df.head()"
   ]
  },
  {
   "cell_type": "markdown",
   "metadata": {},
   "source": [
    "# Format Y"
   ]
  },
  {
   "cell_type": "code",
   "execution_count": 429,
   "metadata": {
    "ExecuteTime": {
     "end_time": "2019-07-31T20:01:20.774869Z",
     "start_time": "2019-07-31T20:01:20.769908Z"
    }
   },
   "outputs": [],
   "source": [
    "streets = ['I-95', '95 Express', 'I-195', 'SR-826', 'SR-836', 'US-1',\n",
    "           'US-41', 'I-75', 'US-441', 'SR-821', 'SR-9',\n",
    "           'SR-997', 'SR-AIA']"
   ]
  },
  {
   "cell_type": "code",
   "execution_count": 430,
   "metadata": {
    "ExecuteTime": {
     "end_time": "2019-07-31T20:01:34.086174Z",
     "start_time": "2019-07-31T20:01:22.895766Z"
    }
   },
   "outputs": [],
   "source": [
    "data_y = pd.read_csv('Datasets/siteloop_@fl511_southeast.csv')\n",
    "data_y.drop(columns=['User','User_ID','Geo', 'HashTag'], inplace = True)\n",
    "data_y['Date'] = pd.to_datetime(data_y['Date'])"
   ]
  },
  {
   "cell_type": "code",
   "execution_count": 431,
   "metadata": {
    "ExecuteTime": {
     "end_time": "2019-07-31T20:02:26.818732Z",
     "start_time": "2019-07-31T20:01:40.730313Z"
    }
   },
   "outputs": [
    {
     "data": {
      "application/vnd.jupyter.widget-view+json": {
       "model_id": "9850418325d7444aa901557c65b18b6a",
       "version_major": 2,
       "version_minor": 0
      },
      "text/plain": [
       "HBox(children=(IntProgress(value=0, max=13), HTML(value='')))"
      ]
     },
     "metadata": {},
     "output_type": "display_data"
    }
   ],
   "source": [
    "for street in tqdm_notebook(streets):\n",
    "    road = pd.Series(index=data_y.index)\n",
    "    for i in data_y.index:\n",
    "        val = 0\n",
    "        if (street in data_y['Tweet'][i]) and ('Cleared' in data_y['Tweet'][i]): \n",
    "            val = 1\n",
    "        elif (street in data_y['Tweet'][i]) and ('lanes blocked' in data_y['Tweet'][i]): \n",
    "            val = 2\n",
    "        elif (street in data_y['Tweet'][i]) and ('lane blocked' in data_y['Tweet'][i]): \n",
    "            val = 3\n",
    "        elif (street in data_y['Tweet'][i]) and (('traffic' in data_y['Tweet'][i]) or ('closed' in data_y['Tweet'][i])):\n",
    "            val = 4\n",
    "        road[i] = val\n",
    "    data_y[street] = road"
   ]
  },
  {
   "cell_type": "code",
   "execution_count": 432,
   "metadata": {
    "ExecuteTime": {
     "end_time": "2019-07-31T20:02:35.728448Z",
     "start_time": "2019-07-31T20:02:35.675872Z"
    }
   },
   "outputs": [
    {
     "data": {
      "text/html": [
       "<div>\n",
       "<style scoped>\n",
       "    .dataframe tbody tr th:only-of-type {\n",
       "        vertical-align: middle;\n",
       "    }\n",
       "\n",
       "    .dataframe tbody tr th {\n",
       "        vertical-align: top;\n",
       "    }\n",
       "\n",
       "    .dataframe thead th {\n",
       "        text-align: right;\n",
       "    }\n",
       "</style>\n",
       "<table border=\"1\" class=\"dataframe\">\n",
       "  <thead>\n",
       "    <tr style=\"text-align: right;\">\n",
       "      <th></th>\n",
       "      <th>Tweet</th>\n",
       "      <th>Date</th>\n",
       "      <th>I-95</th>\n",
       "      <th>95 Express</th>\n",
       "      <th>I-195</th>\n",
       "      <th>SR-826</th>\n",
       "      <th>SR-836</th>\n",
       "      <th>US-1</th>\n",
       "      <th>US-41</th>\n",
       "      <th>I-75</th>\n",
       "      <th>US-441</th>\n",
       "      <th>SR-821</th>\n",
       "      <th>SR-9</th>\n",
       "      <th>SR-997</th>\n",
       "      <th>SR-AIA</th>\n",
       "    </tr>\n",
       "  </thead>\n",
       "  <tbody>\n",
       "    <tr>\n",
       "      <th>0</th>\n",
       "      <td>Cleared: Disabled vehicle in Miami-Dade on SR-...</td>\n",
       "      <td>2019-07-30 17:34:12+00:00</td>\n",
       "      <td>0.0</td>\n",
       "      <td>0.0</td>\n",
       "      <td>0.0</td>\n",
       "      <td>1.0</td>\n",
       "      <td>0.0</td>\n",
       "      <td>0.0</td>\n",
       "      <td>0.0</td>\n",
       "      <td>0.0</td>\n",
       "      <td>0.0</td>\n",
       "      <td>0.0</td>\n",
       "      <td>0.0</td>\n",
       "      <td>0.0</td>\n",
       "      <td>0.0</td>\n",
       "    </tr>\n",
       "    <tr>\n",
       "      <th>1</th>\n",
       "      <td>New: Disabled vehicle in Miami-Dade on SR-826 ...</td>\n",
       "      <td>2019-07-30 17:29:06+00:00</td>\n",
       "      <td>0.0</td>\n",
       "      <td>0.0</td>\n",
       "      <td>0.0</td>\n",
       "      <td>2.0</td>\n",
       "      <td>0.0</td>\n",
       "      <td>0.0</td>\n",
       "      <td>0.0</td>\n",
       "      <td>0.0</td>\n",
       "      <td>0.0</td>\n",
       "      <td>0.0</td>\n",
       "      <td>0.0</td>\n",
       "      <td>0.0</td>\n",
       "      <td>0.0</td>\n",
       "    </tr>\n",
       "    <tr>\n",
       "      <th>2</th>\n",
       "      <td>Cleared: Crash in Miami-Dade on Floridas Turnp...</td>\n",
       "      <td>2019-07-30 15:42:07+00:00</td>\n",
       "      <td>0.0</td>\n",
       "      <td>0.0</td>\n",
       "      <td>0.0</td>\n",
       "      <td>0.0</td>\n",
       "      <td>0.0</td>\n",
       "      <td>0.0</td>\n",
       "      <td>0.0</td>\n",
       "      <td>0.0</td>\n",
       "      <td>0.0</td>\n",
       "      <td>0.0</td>\n",
       "      <td>0.0</td>\n",
       "      <td>0.0</td>\n",
       "      <td>0.0</td>\n",
       "    </tr>\n",
       "    <tr>\n",
       "      <th>3</th>\n",
       "      <td>Cleared: Disabled vehicle in Miami-Dade on SR-...</td>\n",
       "      <td>2019-07-30 14:45:04+00:00</td>\n",
       "      <td>0.0</td>\n",
       "      <td>0.0</td>\n",
       "      <td>0.0</td>\n",
       "      <td>1.0</td>\n",
       "      <td>0.0</td>\n",
       "      <td>0.0</td>\n",
       "      <td>0.0</td>\n",
       "      <td>0.0</td>\n",
       "      <td>0.0</td>\n",
       "      <td>0.0</td>\n",
       "      <td>0.0</td>\n",
       "      <td>0.0</td>\n",
       "      <td>0.0</td>\n",
       "    </tr>\n",
       "    <tr>\n",
       "      <th>4</th>\n",
       "      <td>New: Disabled vehicle in Miami-Dade on SR-826 ...</td>\n",
       "      <td>2019-07-30 14:36:03+00:00</td>\n",
       "      <td>0.0</td>\n",
       "      <td>0.0</td>\n",
       "      <td>0.0</td>\n",
       "      <td>3.0</td>\n",
       "      <td>0.0</td>\n",
       "      <td>0.0</td>\n",
       "      <td>0.0</td>\n",
       "      <td>0.0</td>\n",
       "      <td>0.0</td>\n",
       "      <td>0.0</td>\n",
       "      <td>0.0</td>\n",
       "      <td>0.0</td>\n",
       "      <td>0.0</td>\n",
       "    </tr>\n",
       "    <tr>\n",
       "      <th>5</th>\n",
       "      <td>Cleared: Traffic congestion in Miami-Dade on F...</td>\n",
       "      <td>2019-07-30 13:56:04+00:00</td>\n",
       "      <td>0.0</td>\n",
       "      <td>0.0</td>\n",
       "      <td>0.0</td>\n",
       "      <td>0.0</td>\n",
       "      <td>0.0</td>\n",
       "      <td>0.0</td>\n",
       "      <td>0.0</td>\n",
       "      <td>0.0</td>\n",
       "      <td>0.0</td>\n",
       "      <td>0.0</td>\n",
       "      <td>0.0</td>\n",
       "      <td>0.0</td>\n",
       "      <td>0.0</td>\n",
       "    </tr>\n",
       "    <tr>\n",
       "      <th>6</th>\n",
       "      <td>Cleared: Traffic congestion in Miami-Dade on F...</td>\n",
       "      <td>2019-07-30 13:45:08+00:00</td>\n",
       "      <td>0.0</td>\n",
       "      <td>0.0</td>\n",
       "      <td>0.0</td>\n",
       "      <td>0.0</td>\n",
       "      <td>0.0</td>\n",
       "      <td>0.0</td>\n",
       "      <td>0.0</td>\n",
       "      <td>1.0</td>\n",
       "      <td>0.0</td>\n",
       "      <td>0.0</td>\n",
       "      <td>0.0</td>\n",
       "      <td>0.0</td>\n",
       "      <td>0.0</td>\n",
       "    </tr>\n",
       "    <tr>\n",
       "      <th>7</th>\n",
       "      <td>Updated: Crash in Miami-Dade on Floridas Turnp...</td>\n",
       "      <td>2019-07-30 13:04:49+00:00</td>\n",
       "      <td>0.0</td>\n",
       "      <td>0.0</td>\n",
       "      <td>0.0</td>\n",
       "      <td>0.0</td>\n",
       "      <td>0.0</td>\n",
       "      <td>0.0</td>\n",
       "      <td>0.0</td>\n",
       "      <td>0.0</td>\n",
       "      <td>0.0</td>\n",
       "      <td>0.0</td>\n",
       "      <td>0.0</td>\n",
       "      <td>0.0</td>\n",
       "      <td>0.0</td>\n",
       "    </tr>\n",
       "    <tr>\n",
       "      <th>8</th>\n",
       "      <td>Updated: Traffic congestion in Miami-Dade on F...</td>\n",
       "      <td>2019-07-30 12:58:09+00:00</td>\n",
       "      <td>0.0</td>\n",
       "      <td>0.0</td>\n",
       "      <td>0.0</td>\n",
       "      <td>0.0</td>\n",
       "      <td>0.0</td>\n",
       "      <td>0.0</td>\n",
       "      <td>0.0</td>\n",
       "      <td>0.0</td>\n",
       "      <td>0.0</td>\n",
       "      <td>0.0</td>\n",
       "      <td>0.0</td>\n",
       "      <td>0.0</td>\n",
       "      <td>0.0</td>\n",
       "    </tr>\n",
       "    <tr>\n",
       "      <th>9</th>\n",
       "      <td>Cleared: Disabled vehicle in Miami-Dade on 95 ...</td>\n",
       "      <td>2019-07-30 12:17:11+00:00</td>\n",
       "      <td>0.0</td>\n",
       "      <td>1.0</td>\n",
       "      <td>0.0</td>\n",
       "      <td>0.0</td>\n",
       "      <td>0.0</td>\n",
       "      <td>0.0</td>\n",
       "      <td>0.0</td>\n",
       "      <td>0.0</td>\n",
       "      <td>0.0</td>\n",
       "      <td>0.0</td>\n",
       "      <td>1.0</td>\n",
       "      <td>0.0</td>\n",
       "      <td>0.0</td>\n",
       "    </tr>\n",
       "    <tr>\n",
       "      <th>10</th>\n",
       "      <td>Cleared: Emergency vehicles in Miami-Dade on U...</td>\n",
       "      <td>2019-07-30 11:57:16+00:00</td>\n",
       "      <td>0.0</td>\n",
       "      <td>0.0</td>\n",
       "      <td>0.0</td>\n",
       "      <td>0.0</td>\n",
       "      <td>0.0</td>\n",
       "      <td>1.0</td>\n",
       "      <td>0.0</td>\n",
       "      <td>0.0</td>\n",
       "      <td>0.0</td>\n",
       "      <td>0.0</td>\n",
       "      <td>0.0</td>\n",
       "      <td>0.0</td>\n",
       "      <td>0.0</td>\n",
       "    </tr>\n",
       "    <tr>\n",
       "      <th>11</th>\n",
       "      <td>New: Disabled vehicle in Miami-Dade on 95 Expr...</td>\n",
       "      <td>2019-07-30 11:56:55+00:00</td>\n",
       "      <td>0.0</td>\n",
       "      <td>3.0</td>\n",
       "      <td>0.0</td>\n",
       "      <td>0.0</td>\n",
       "      <td>0.0</td>\n",
       "      <td>0.0</td>\n",
       "      <td>0.0</td>\n",
       "      <td>0.0</td>\n",
       "      <td>0.0</td>\n",
       "      <td>0.0</td>\n",
       "      <td>3.0</td>\n",
       "      <td>0.0</td>\n",
       "      <td>0.0</td>\n",
       "    </tr>\n",
       "    <tr>\n",
       "      <th>12</th>\n",
       "      <td>Updated: Emergency vehicles in Miami-Dade on U...</td>\n",
       "      <td>2019-07-30 11:50:09+00:00</td>\n",
       "      <td>0.0</td>\n",
       "      <td>0.0</td>\n",
       "      <td>0.0</td>\n",
       "      <td>0.0</td>\n",
       "      <td>0.0</td>\n",
       "      <td>3.0</td>\n",
       "      <td>0.0</td>\n",
       "      <td>0.0</td>\n",
       "      <td>0.0</td>\n",
       "      <td>0.0</td>\n",
       "      <td>0.0</td>\n",
       "      <td>0.0</td>\n",
       "      <td>0.0</td>\n",
       "    </tr>\n",
       "    <tr>\n",
       "      <th>13</th>\n",
       "      <td>Cleared: Planned construction in Miami-Dade on...</td>\n",
       "      <td>2019-07-30 11:48:22+00:00</td>\n",
       "      <td>0.0</td>\n",
       "      <td>0.0</td>\n",
       "      <td>0.0</td>\n",
       "      <td>0.0</td>\n",
       "      <td>0.0</td>\n",
       "      <td>0.0</td>\n",
       "      <td>0.0</td>\n",
       "      <td>0.0</td>\n",
       "      <td>0.0</td>\n",
       "      <td>0.0</td>\n",
       "      <td>1.0</td>\n",
       "      <td>0.0</td>\n",
       "      <td>0.0</td>\n",
       "    </tr>\n",
       "    <tr>\n",
       "      <th>14</th>\n",
       "      <td>New: Emergency vehicles in Miami-Dade on US-1 ...</td>\n",
       "      <td>2019-07-30 11:41:04+00:00</td>\n",
       "      <td>0.0</td>\n",
       "      <td>0.0</td>\n",
       "      <td>0.0</td>\n",
       "      <td>0.0</td>\n",
       "      <td>0.0</td>\n",
       "      <td>3.0</td>\n",
       "      <td>0.0</td>\n",
       "      <td>0.0</td>\n",
       "      <td>0.0</td>\n",
       "      <td>0.0</td>\n",
       "      <td>0.0</td>\n",
       "      <td>0.0</td>\n",
       "      <td>0.0</td>\n",
       "    </tr>\n",
       "    <tr>\n",
       "      <th>15</th>\n",
       "      <td>Updated: Traffic congestion in Miami-Dade on F...</td>\n",
       "      <td>2019-07-30 11:38:26+00:00</td>\n",
       "      <td>0.0</td>\n",
       "      <td>0.0</td>\n",
       "      <td>0.0</td>\n",
       "      <td>0.0</td>\n",
       "      <td>0.0</td>\n",
       "      <td>0.0</td>\n",
       "      <td>0.0</td>\n",
       "      <td>0.0</td>\n",
       "      <td>0.0</td>\n",
       "      <td>0.0</td>\n",
       "      <td>0.0</td>\n",
       "      <td>0.0</td>\n",
       "      <td>0.0</td>\n",
       "    </tr>\n",
       "    <tr>\n",
       "      <th>16</th>\n",
       "      <td>Cleared: Crash in Miami-Dade on I-95 north ram...</td>\n",
       "      <td>2019-07-30 11:38:26+00:00</td>\n",
       "      <td>1.0</td>\n",
       "      <td>0.0</td>\n",
       "      <td>0.0</td>\n",
       "      <td>0.0</td>\n",
       "      <td>0.0</td>\n",
       "      <td>0.0</td>\n",
       "      <td>0.0</td>\n",
       "      <td>0.0</td>\n",
       "      <td>0.0</td>\n",
       "      <td>0.0</td>\n",
       "      <td>0.0</td>\n",
       "      <td>0.0</td>\n",
       "      <td>0.0</td>\n",
       "    </tr>\n",
       "    <tr>\n",
       "      <th>17</th>\n",
       "      <td>New: Traffic congestion in Miami-Dade on Flori...</td>\n",
       "      <td>2019-07-30 11:29:31+00:00</td>\n",
       "      <td>0.0</td>\n",
       "      <td>0.0</td>\n",
       "      <td>0.0</td>\n",
       "      <td>0.0</td>\n",
       "      <td>0.0</td>\n",
       "      <td>0.0</td>\n",
       "      <td>0.0</td>\n",
       "      <td>0.0</td>\n",
       "      <td>0.0</td>\n",
       "      <td>0.0</td>\n",
       "      <td>0.0</td>\n",
       "      <td>0.0</td>\n",
       "      <td>0.0</td>\n",
       "    </tr>\n",
       "    <tr>\n",
       "      <th>18</th>\n",
       "      <td>Cleared: Crash in Miami-Dade on I-195 east bef...</td>\n",
       "      <td>2019-07-30 11:28:04+00:00</td>\n",
       "      <td>0.0</td>\n",
       "      <td>0.0</td>\n",
       "      <td>1.0</td>\n",
       "      <td>0.0</td>\n",
       "      <td>0.0</td>\n",
       "      <td>0.0</td>\n",
       "      <td>0.0</td>\n",
       "      <td>0.0</td>\n",
       "      <td>0.0</td>\n",
       "      <td>0.0</td>\n",
       "      <td>1.0</td>\n",
       "      <td>0.0</td>\n",
       "      <td>0.0</td>\n",
       "    </tr>\n",
       "    <tr>\n",
       "      <th>19</th>\n",
       "      <td>Updated: Emergency vehicles in Miami-Dade on F...</td>\n",
       "      <td>2019-07-30 11:27:06+00:00</td>\n",
       "      <td>0.0</td>\n",
       "      <td>0.0</td>\n",
       "      <td>0.0</td>\n",
       "      <td>0.0</td>\n",
       "      <td>0.0</td>\n",
       "      <td>0.0</td>\n",
       "      <td>0.0</td>\n",
       "      <td>0.0</td>\n",
       "      <td>0.0</td>\n",
       "      <td>0.0</td>\n",
       "      <td>0.0</td>\n",
       "      <td>0.0</td>\n",
       "      <td>0.0</td>\n",
       "    </tr>\n",
       "  </tbody>\n",
       "</table>\n",
       "</div>"
      ],
      "text/plain": [
       "                                                Tweet  \\\n",
       "0   Cleared: Disabled vehicle in Miami-Dade on SR-...   \n",
       "1   New: Disabled vehicle in Miami-Dade on SR-826 ...   \n",
       "2   Cleared: Crash in Miami-Dade on Floridas Turnp...   \n",
       "3   Cleared: Disabled vehicle in Miami-Dade on SR-...   \n",
       "4   New: Disabled vehicle in Miami-Dade on SR-826 ...   \n",
       "5   Cleared: Traffic congestion in Miami-Dade on F...   \n",
       "6   Cleared: Traffic congestion in Miami-Dade on F...   \n",
       "7   Updated: Crash in Miami-Dade on Floridas Turnp...   \n",
       "8   Updated: Traffic congestion in Miami-Dade on F...   \n",
       "9   Cleared: Disabled vehicle in Miami-Dade on 95 ...   \n",
       "10  Cleared: Emergency vehicles in Miami-Dade on U...   \n",
       "11  New: Disabled vehicle in Miami-Dade on 95 Expr...   \n",
       "12  Updated: Emergency vehicles in Miami-Dade on U...   \n",
       "13  Cleared: Planned construction in Miami-Dade on...   \n",
       "14  New: Emergency vehicles in Miami-Dade on US-1 ...   \n",
       "15  Updated: Traffic congestion in Miami-Dade on F...   \n",
       "16  Cleared: Crash in Miami-Dade on I-95 north ram...   \n",
       "17  New: Traffic congestion in Miami-Dade on Flori...   \n",
       "18  Cleared: Crash in Miami-Dade on I-195 east bef...   \n",
       "19  Updated: Emergency vehicles in Miami-Dade on F...   \n",
       "\n",
       "                        Date  I-95  95 Express  I-195  SR-826  SR-836  US-1  \\\n",
       "0  2019-07-30 17:34:12+00:00   0.0         0.0    0.0     1.0     0.0   0.0   \n",
       "1  2019-07-30 17:29:06+00:00   0.0         0.0    0.0     2.0     0.0   0.0   \n",
       "2  2019-07-30 15:42:07+00:00   0.0         0.0    0.0     0.0     0.0   0.0   \n",
       "3  2019-07-30 14:45:04+00:00   0.0         0.0    0.0     1.0     0.0   0.0   \n",
       "4  2019-07-30 14:36:03+00:00   0.0         0.0    0.0     3.0     0.0   0.0   \n",
       "5  2019-07-30 13:56:04+00:00   0.0         0.0    0.0     0.0     0.0   0.0   \n",
       "6  2019-07-30 13:45:08+00:00   0.0         0.0    0.0     0.0     0.0   0.0   \n",
       "7  2019-07-30 13:04:49+00:00   0.0         0.0    0.0     0.0     0.0   0.0   \n",
       "8  2019-07-30 12:58:09+00:00   0.0         0.0    0.0     0.0     0.0   0.0   \n",
       "9  2019-07-30 12:17:11+00:00   0.0         1.0    0.0     0.0     0.0   0.0   \n",
       "10 2019-07-30 11:57:16+00:00   0.0         0.0    0.0     0.0     0.0   1.0   \n",
       "11 2019-07-30 11:56:55+00:00   0.0         3.0    0.0     0.0     0.0   0.0   \n",
       "12 2019-07-30 11:50:09+00:00   0.0         0.0    0.0     0.0     0.0   3.0   \n",
       "13 2019-07-30 11:48:22+00:00   0.0         0.0    0.0     0.0     0.0   0.0   \n",
       "14 2019-07-30 11:41:04+00:00   0.0         0.0    0.0     0.0     0.0   3.0   \n",
       "15 2019-07-30 11:38:26+00:00   0.0         0.0    0.0     0.0     0.0   0.0   \n",
       "16 2019-07-30 11:38:26+00:00   1.0         0.0    0.0     0.0     0.0   0.0   \n",
       "17 2019-07-30 11:29:31+00:00   0.0         0.0    0.0     0.0     0.0   0.0   \n",
       "18 2019-07-30 11:28:04+00:00   0.0         0.0    1.0     0.0     0.0   0.0   \n",
       "19 2019-07-30 11:27:06+00:00   0.0         0.0    0.0     0.0     0.0   0.0   \n",
       "\n",
       "    US-41  I-75  US-441  SR-821  SR-9  SR-997  SR-AIA  \n",
       "0     0.0   0.0     0.0     0.0   0.0     0.0     0.0  \n",
       "1     0.0   0.0     0.0     0.0   0.0     0.0     0.0  \n",
       "2     0.0   0.0     0.0     0.0   0.0     0.0     0.0  \n",
       "3     0.0   0.0     0.0     0.0   0.0     0.0     0.0  \n",
       "4     0.0   0.0     0.0     0.0   0.0     0.0     0.0  \n",
       "5     0.0   0.0     0.0     0.0   0.0     0.0     0.0  \n",
       "6     0.0   1.0     0.0     0.0   0.0     0.0     0.0  \n",
       "7     0.0   0.0     0.0     0.0   0.0     0.0     0.0  \n",
       "8     0.0   0.0     0.0     0.0   0.0     0.0     0.0  \n",
       "9     0.0   0.0     0.0     0.0   1.0     0.0     0.0  \n",
       "10    0.0   0.0     0.0     0.0   0.0     0.0     0.0  \n",
       "11    0.0   0.0     0.0     0.0   3.0     0.0     0.0  \n",
       "12    0.0   0.0     0.0     0.0   0.0     0.0     0.0  \n",
       "13    0.0   0.0     0.0     0.0   1.0     0.0     0.0  \n",
       "14    0.0   0.0     0.0     0.0   0.0     0.0     0.0  \n",
       "15    0.0   0.0     0.0     0.0   0.0     0.0     0.0  \n",
       "16    0.0   0.0     0.0     0.0   0.0     0.0     0.0  \n",
       "17    0.0   0.0     0.0     0.0   0.0     0.0     0.0  \n",
       "18    0.0   0.0     0.0     0.0   1.0     0.0     0.0  \n",
       "19    0.0   0.0     0.0     0.0   0.0     0.0     0.0  "
      ]
     },
     "execution_count": 432,
     "metadata": {},
     "output_type": "execute_result"
    }
   ],
   "source": [
    "data_y.head(20)"
   ]
  },
  {
   "cell_type": "markdown",
   "metadata": {},
   "source": [
    "# Aggregate columns"
   ]
  },
  {
   "cell_type": "code",
   "execution_count": 452,
   "metadata": {
    "ExecuteTime": {
     "end_time": "2019-07-31T20:17:49.405802Z",
     "start_time": "2019-07-31T20:17:49.390665Z"
    }
   },
   "outputs": [
    {
     "data": {
      "text/html": [
       "<div>\n",
       "<style scoped>\n",
       "    .dataframe tbody tr th:only-of-type {\n",
       "        vertical-align: middle;\n",
       "    }\n",
       "\n",
       "    .dataframe tbody tr th {\n",
       "        vertical-align: top;\n",
       "    }\n",
       "\n",
       "    .dataframe thead th {\n",
       "        text-align: right;\n",
       "    }\n",
       "</style>\n",
       "<table border=\"1\" class=\"dataframe\">\n",
       "  <thead>\n",
       "    <tr style=\"text-align: right;\">\n",
       "      <th></th>\n",
       "      <th>Tweet</th>\n",
       "    </tr>\n",
       "    <tr>\n",
       "      <th>time</th>\n",
       "      <th></th>\n",
       "    </tr>\n",
       "  </thead>\n",
       "  <tbody>\n",
       "    <tr>\n",
       "      <th>2019-07-29 11:02:00+00:00</th>\n",
       "      <td>Usted, izquierdista , guerrillero, no está en ...</td>\n",
       "    </tr>\n",
       "  </tbody>\n",
       "</table>\n",
       "</div>"
      ],
      "text/plain": [
       "                                                                       Tweet\n",
       "time                                                                        \n",
       "2019-07-29 11:02:00+00:00  Usted, izquierdista , guerrillero, no está en ..."
      ]
     },
     "execution_count": 452,
     "metadata": {},
     "output_type": "execute_result"
    }
   ],
   "source": [
    "df.head(1)"
   ]
  },
  {
   "cell_type": "code",
   "execution_count": null,
   "metadata": {},
   "outputs": [],
   "source": [
    "july = data_y.iloc[0:2000]"
   ]
  },
  {
   "cell_type": "code",
   "execution_count": 456,
   "metadata": {
    "ExecuteTime": {
     "end_time": "2019-07-31T20:27:39.574875Z",
     "start_time": "2019-07-31T20:23:21.718623Z"
    }
   },
   "outputs": [
    {
     "data": {
      "application/vnd.jupyter.widget-view+json": {
       "model_id": "7141b5f087ca46459e330f486c819969",
       "version_major": 2,
       "version_minor": 0
      },
      "text/plain": [
       "HBox(children=(IntProgress(value=0, max=2000), HTML(value='')))"
      ]
     },
     "metadata": {},
     "output_type": "display_data"
    },
    {
     "name": "stderr",
     "output_type": "stream",
     "text": [
      "C:\\Users\\steph\\Anaconda3\\lib\\site-packages\\ipykernel_launcher.py:18: SettingWithCopyWarning: \n",
      "A value is trying to be set on a copy of a slice from a DataFrame.\n",
      "Try using .loc[row_indexer,col_indexer] = value instead\n",
      "\n",
      "See the caveats in the documentation: http://pandas.pydata.org/pandas-docs/stable/indexing.html#indexing-view-versus-copy\n"
     ]
    }
   ],
   "source": [
    "agg_col = pd.Series(index=july.index)\n",
    "for i in tqdm_notebook(july.index):\n",
    "    agg_tweets = ''\n",
    "    \n",
    "    min_before = []\n",
    "    \n",
    "    for q in range(-30, 60):\n",
    "        time = july['Date'][i].floor(freq='T') - pd.DateOffset(minutes=q)\n",
    "        min_before.append(time)\n",
    "        \n",
    "    for j in min_before:\n",
    "        try:\n",
    "            agg_tweets += df['Tweet'][j]\n",
    "        except:\n",
    "            pass\n",
    "    \n",
    "    agg_col[i] = agg_tweets\n",
    "july['Aggregate'] = agg_col"
   ]
  },
  {
   "cell_type": "code",
   "execution_count": 427,
   "metadata": {
    "ExecuteTime": {
     "end_time": "2019-07-31T20:00:46.831514Z",
     "start_time": "2019-07-31T19:58:20.616878Z"
    }
   },
   "outputs": [
    {
     "data": {
      "application/vnd.jupyter.widget-view+json": {
       "model_id": "82cd520aa20145c4b20673ff2f0f15df",
       "version_major": 2,
       "version_minor": 0
      },
      "text/plain": [
       "HBox(children=(IntProgress(value=0, max=22571), HTML(value='')))"
      ]
     },
     "metadata": {},
     "output_type": "display_data"
    }
   ],
   "source": [
    "for i in tqdm_notebook(data_y.index):\n",
    "    if data_y['Aggregate'][i] == '':\n",
    "         data_y.drop(axis = 0, index = i, inplace=True)"
   ]
  },
  {
   "cell_type": "code",
   "execution_count": 414,
   "metadata": {
    "ExecuteTime": {
     "end_time": "2019-07-31T19:24:54.722938Z",
     "start_time": "2019-07-31T19:22:32.339069Z"
    }
   },
   "outputs": [
    {
     "data": {
      "application/vnd.jupyter.widget-view+json": {
       "model_id": "1008f0a5004e458c8f871d93b5db9765",
       "version_major": 2,
       "version_minor": 0
      },
      "text/plain": [
       "HBox(children=(IntProgress(value=0, max=34863), HTML(value='')))"
      ]
     },
     "metadata": {},
     "output_type": "display_data"
    }
   ],
   "source": [
    "for i in tqdm_notebook(data_y.index):\n",
    "    if (data_y['I-95'][i] == 0) and (data_y['95 Express'][i] == 0) and (data_y['I-195'][i] == 0) and (data_y['SR-826'][i] == 0) and \\\n",
    "    (data_y['SR-836'][i] == 0) and (data_y['US-1'][i] == 0) and (data_y['US-41'][i] == 0) and (data_y['I-75'][i] == 0) and \\\n",
    "    (data_y['US-441'][i] == 0) and (data_y['SR-821'][i] == 0) and (data_y['SR-9'][i] == 0) and (data_y['SR-997'][i] == 0) and (data_y['SR-AIA'][i] == 0):\n",
    "        data_y.drop(axis = 0, index = i, inplace=True)"
   ]
  },
  {
   "cell_type": "code",
   "execution_count": 460,
   "metadata": {
    "ExecuteTime": {
     "end_time": "2019-07-31T20:28:34.578615Z",
     "start_time": "2019-07-31T20:28:34.566710Z"
    }
   },
   "outputs": [],
   "source": [
    "X = july['Aggregate']\n",
    "y = july['I-95']\n",
    "X_train, X_test, y_train, y_test = train_test_split(X, y, stratify=y, random_state=42)"
   ]
  },
  {
   "cell_type": "code",
   "execution_count": 461,
   "metadata": {
    "ExecuteTime": {
     "end_time": "2019-07-31T20:28:37.466689Z",
     "start_time": "2019-07-31T20:28:37.458760Z"
    }
   },
   "outputs": [],
   "source": [
    "pipe = Pipeline([\n",
    "    ('vec', TfidfVectorizer(token_pattern='[a-zA-z]+ | [A-Za-z]+\\-*\\d+\\W(?:[sS]outh|[Nn]orth|East|West|[NSEW]{1,2}|[nswe]{1,2})*')),\n",
    "    ('nb', MultinomialNB())\n",
    "])\n",
    "pipe_params = {\n",
    "    'vec__stop_words': ['english'],\n",
    "    'vec__max_features': [2000],\n",
    "    'vec__min_df': [1],\n",
    "    'vec__max_df': [.9],\n",
    "    'vec__ngram_range': [(2,5)],\n",
    "}"
   ]
  },
  {
   "cell_type": "code",
   "execution_count": 462,
   "metadata": {
    "ExecuteTime": {
     "end_time": "2019-07-31T21:14:02.357175Z",
     "start_time": "2019-07-31T20:28:40.044704Z"
    }
   },
   "outputs": [
    {
     "name": "stdout",
     "output_type": "stream",
     "text": [
      "cvs: 0.7466666666666667\n",
      "train score: 0.7466666666666667\n",
      "test score: 0.746\n"
     ]
    }
   ],
   "source": [
    "gs = GridSearchCV(pipe, param_grid=pipe_params, cv=3)\n",
    "gs.fit(X_train, y_train)\n",
    "print('cvs:', gs.best_score_)\n",
    "print('train score:', gs.score(X_train, y_train))\n",
    "print('test score:', gs.score(X_test, y_test))"
   ]
  },
  {
   "cell_type": "code",
   "execution_count": 403,
   "metadata": {
    "ExecuteTime": {
     "end_time": "2019-07-31T18:31:57.253670Z",
     "start_time": "2019-07-31T18:31:57.242756Z"
    }
   },
   "outputs": [
    {
     "data": {
      "text/plain": [
       "0.0    0.797982\n",
       "1.0    0.090174\n",
       "2.0    0.056724\n",
       "4.0    0.038867\n",
       "3.0    0.016252\n",
       "Name: I-95, dtype: float64"
      ]
     },
     "execution_count": 403,
     "metadata": {},
     "output_type": "execute_result"
    }
   ],
   "source": [
    "data_y['I-95'].value_counts(normalize=True)"
   ]
  }
 ],
 "metadata": {
  "hide_input": false,
  "kernelspec": {
   "display_name": "Python 3",
   "language": "python",
   "name": "python3"
  },
  "language_info": {
   "codemirror_mode": {
    "name": "ipython",
    "version": 3
   },
   "file_extension": ".py",
   "mimetype": "text/x-python",
   "name": "python",
   "nbconvert_exporter": "python",
   "pygments_lexer": "ipython3",
   "version": "3.6.8"
  },
  "toc": {
   "base_numbering": 1,
   "nav_menu": {},
   "number_sections": true,
   "sideBar": true,
   "skip_h1_title": false,
   "title_cell": "Table of Contents",
   "title_sidebar": "Contents",
   "toc_cell": false,
   "toc_position": {},
   "toc_section_display": true,
   "toc_window_display": false
  },
  "varInspector": {
   "cols": {
    "lenName": 16,
    "lenType": 16,
    "lenVar": 40
   },
   "kernels_config": {
    "python": {
     "delete_cmd_postfix": "",
     "delete_cmd_prefix": "del ",
     "library": "var_list.py",
     "varRefreshCmd": "print(var_dic_list())"
    },
    "r": {
     "delete_cmd_postfix": ") ",
     "delete_cmd_prefix": "rm(",
     "library": "var_list.r",
     "varRefreshCmd": "cat(var_dic_list()) "
    }
   },
   "oldHeight": 416.074666,
   "position": {
    "height": "40px",
    "left": "703.438px",
    "right": "20px",
    "top": "114px",
    "width": "279.817px"
   },
   "types_to_exclude": [
    "module",
    "function",
    "builtin_function_or_method",
    "instance",
    "_Feature"
   ],
   "varInspector_section_display": "none",
   "window_display": false
  }
 },
 "nbformat": 4,
 "nbformat_minor": 2
}
